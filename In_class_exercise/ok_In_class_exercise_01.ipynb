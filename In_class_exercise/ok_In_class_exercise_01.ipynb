{
 "cells": [
  {
   "cell_type": "markdown",
   "metadata": {
    "colab_type": "text",
    "id": "view-in-github"
   },
   "source": [
    "<a href=\"https://colab.research.google.com/github/unt-iialab/INFO5731_Spring2020/blob/master/In_class_exercise/In_class_exercise_01.ipynb\" target=\"_parent\"><img src=\"https://colab.research.google.com/assets/colab-badge.svg\" alt=\"Open In Colab\"/></a>"
   ]
  },
  {
   "cell_type": "markdown",
   "metadata": {
    "colab_type": "text",
    "id": "DymRJbxDBCnf"
   },
   "source": [
    "# **The first In-class-exercise (09/01/2021, 40 points in total)**"
   ]
  },
  {
   "cell_type": "markdown",
   "metadata": {
    "colab_type": "text",
    "id": "03jb4GZsBkBS"
   },
   "source": [
    "(1) Write a Python program to calculate the length of a string. (4 points)"
   ]
  },
  {
   "cell_type": "code",
   "execution_count": 1,
   "metadata": {
    "colab": {},
    "colab_type": "code",
    "id": "YaGLbSHHB8Ej"
   },
   "outputs": [
    {
     "name": "stdin",
     "output_type": "stream",
     "text": [
      "Please enter a string:  hello\n"
     ]
    },
    {
     "name": "stdout",
     "output_type": "stream",
     "text": [
      "The length of the string is 5\n"
     ]
    }
   ],
   "source": [
    "# write your answer here\n",
    "string = input(\"Please enter a string: \")\n",
    "print(\"The length of the string is \" + str(len(string)))"
   ]
  },
  {
   "cell_type": "markdown",
   "metadata": {
    "colab_type": "text",
    "id": "jJDe71iLB616"
   },
   "source": [
    "(2) Write a Python program to count the number of characters in a string. (4 points)\n",
    "\n",
    "Sample String : 'google.com‘, \n",
    "\n",
    "Expected Result : {'o': 3, 'g': 2, '.': 1, 'e': 1, 'l': 1, 'm': 1, 'c': 1}"
   ]
  },
  {
   "cell_type": "code",
   "execution_count": 21,
   "metadata": {
    "colab": {},
    "colab_type": "code",
    "id": "MtKskTzbCLaU"
   },
   "outputs": [
    {
     "name": "stdin",
     "output_type": "stream",
     "text": [
      "Please enter a string:  google.com\n"
     ]
    },
    {
     "name": "stdout",
     "output_type": "stream",
     "text": [
      "[('o', 3), ('g', 2), ('l', 1), ('e', 1), ('.', 1), ('c', 1), ('m', 1)]\n"
     ]
    }
   ],
   "source": [
    "# write your answer here\n",
    "test_str = input(\"Please enter a string: \")\n",
    "dict_str = {}\n",
    "for i in test_str:\n",
    "  if i in dict_str:\n",
    "    dict_str[i] += 1\n",
    "  else:\n",
    "    dict_str[i] = 1\n",
    "sorted_str = sorted(dict_str.items(), key=lambda kv:kv[1], reverse = True)\n",
    "print(sorted_str)"
   ]
  },
  {
   "cell_type": "markdown",
   "metadata": {
    "colab_type": "text",
    "id": "55W9AMdXCSpV"
   },
   "source": [
    "(3) Write a Python program to sum all the items in a list. (4 points)"
   ]
  },
  {
   "cell_type": "code",
   "execution_count": 3,
   "metadata": {
    "colab": {},
    "colab_type": "code",
    "id": "I57NXsauCec2"
   },
   "outputs": [
    {
     "name": "stdout",
     "output_type": "stream",
     "text": [
      "The sum of items in the list is 15\n"
     ]
    }
   ],
   "source": [
    "# write your answer here\n",
    "items_list=[1,2,3,4,5]\n",
    "items_list_sum=sum(items_list)\n",
    "print(\"The sum of items in the list is \" + str(items_list_sum))"
   ]
  },
  {
   "cell_type": "markdown",
   "metadata": {
    "colab_type": "text",
    "id": "4ulBZ6yhCi9F"
   },
   "source": [
    "(4) Write a Python program to get a string from a given string where all occurrences of its first char have been changed to '\\$', except the first char itself. (4 points)\n",
    "\n",
    "Sample String : 'restart‘, \n",
    "\n",
    "Expected Result : 'resta\\$t'"
   ]
  },
  {
   "cell_type": "code",
   "execution_count": 3,
   "metadata": {
    "colab": {},
    "colab_type": "code",
    "id": "Fj0XhwbBCw2o"
   },
   "outputs": [
    {
     "name": "stdout",
     "output_type": "stream",
     "text": [
      "resta$t\n"
     ]
    }
   ],
   "source": [
    "# write your answer here\n",
    "def change_char(str1):  \n",
    "  char = str1[0]  \n",
    "  str1 = str1.replace(char, '$')  \n",
    "  str1 = char + str1[1:]  \n",
    "  return str1  \n",
    "print(change_char('restart'))"
   ]
  },
  {
   "cell_type": "markdown",
   "metadata": {
    "colab_type": "text",
    "id": "_bIP7s1MCzue"
   },
   "source": [
    "(5) Write a program with python which could accept two parameter a and b to calculate and output the result of S, where \n",
    "\n",
    "$\\ S=3.14*(1+a/b)^3$ (4 points)\n",
    "\n"
   ]
  },
  {
   "cell_type": "code",
   "execution_count": 35,
   "metadata": {
    "colab": {},
    "colab_type": "code",
    "id": "w79QilHXD3Mg"
   },
   "outputs": [
    {
     "name": "stdin",
     "output_type": "stream",
     "text": [
      "Enter the value for a  4\n",
      "Enter the value for b  5\n"
     ]
    },
    {
     "name": "stdout",
     "output_type": "stream",
     "text": [
      "The result is 18.312480000000004\n"
     ]
    }
   ],
   "source": [
    "# write your answer here\n",
    "a = input(\"Enter the value for a \")\n",
    "b = input(\"Enter the value for b \")\n",
    "S = 3.14*(1+int(a)/int(b))**3\n",
    "print(\"The result is \" + str(S))"
   ]
  },
  {
   "cell_type": "markdown",
   "metadata": {
    "colab_type": "text",
    "id": "xCa2bK9aD4Q3"
   },
   "source": [
    "(6) Write a Python program to concatenate following dictionaries to create a new one. (4 points)\n",
    "\n",
    "Sample Dictionary : dic1={1:10, 2:20}, dic2={3:30, 4:40}, dic3={5:50,6:60}, \n",
    "\n",
    "Expected Result : {1: 10, 2: 20, 3: 30, 4: 40, 5: 50, 6: 60}\n"
   ]
  },
  {
   "cell_type": "code",
   "execution_count": 33,
   "metadata": {
    "colab": {},
    "colab_type": "code",
    "id": "_z4aLqAbEET1"
   },
   "outputs": [
    {
     "name": "stdout",
     "output_type": "stream",
     "text": [
      "{1: 10, 2: 20, 3: 30, 4: 40, 5: 50, 6: 60}\n"
     ]
    }
   ],
   "source": [
    "# write your answer here\n",
    "dic1 = {1:10,2:20}\n",
    "dic2 = {3:30,4:40}\n",
    "dic3 = {5:50,6:60}\n",
    "new_dic = {}\n",
    "for dictionary in (dic1,dic2,dic3):\n",
    "  new_dic.update(dictionary)\n",
    "print(new_dic)"
   ]
  },
  {
   "cell_type": "markdown",
   "metadata": {
    "colab_type": "text",
    "id": "0v48Vqa7FrQh"
   },
   "source": [
    "(7) Write a Python program to check whether an element exists within a tuple. (4 points)"
   ]
  },
  {
   "cell_type": "code",
   "execution_count": 25,
   "metadata": {
    "colab": {},
    "colab_type": "code",
    "id": "7WEmgq-DF2P1"
   },
   "outputs": [
    {
     "name": "stdin",
     "output_type": "stream",
     "text": [
      "Please search an element:  apple\n"
     ]
    },
    {
     "name": "stdout",
     "output_type": "stream",
     "text": [
      "Yes, apple is in the tuple.\n"
     ]
    }
   ],
   "source": [
    "# write your answer here\n",
    "thistuple = (\"apple\", \"banana\", \"cherry\")\n",
    "dict_str = input(\"Please search an element: \")\n",
    "for i in thistuple:\n",
    "  if i in dict_str:\n",
    "    print(\"Yes, \" + i + \" is in the tuple.\")"
   ]
  },
  {
   "cell_type": "markdown",
   "metadata": {
    "colab_type": "text",
    "id": "vD5PYLMuGga_"
   },
   "source": [
    "(8) Write a Python program to find maximum and the minimum value in a set. (4 points)"
   ]
  },
  {
   "cell_type": "code",
   "execution_count": 5,
   "metadata": {
    "colab": {},
    "colab_type": "code",
    "id": "t0D5kdJUGjjw"
   },
   "outputs": [
    {
     "name": "stdout",
     "output_type": "stream",
     "text": [
      "Max: 5\n",
      "Min: 1\n"
     ]
    }
   ],
   "source": [
    "# write your answer here\n",
    "this_set = {1,2,3,4,5}\n",
    "print(\"Max: \" + str(max(this_set)))\n",
    "print(\"Min: \" + str(min(this_set)))"
   ]
  },
  {
   "cell_type": "markdown",
   "metadata": {
    "colab_type": "text",
    "id": "uHkd-y5VhVWC"
   },
   "source": [
    "(9) Write a Python program to randomly divide the students in this class into six groups for term projects, each group should have at least 4 students but no more than 6 students (including 6). Here is the students list: (4 points)\n",
    "\n",
    "studnet_list = ['vmb0067','pc0353','snd0097','yye0005','sg0940','bk0301','rak0120','rrk0058','spk0057','vl0135','nm0547','pn0159',\n",
    "           'msp0174','dd0420','ds0761','rs0850','ss1995','at0739','at0768','mv0299','tv0119','dy0091','py0080','ttp0037','hc0439','ri0094','pk0339', 'hn0145','mn0426']"
   ]
  },
  {
   "cell_type": "code",
   "execution_count": 6,
   "metadata": {
    "colab": {},
    "colab_type": "code",
    "id": "3iGbmcOBhTwy"
   },
   "outputs": [
    {
     "name": "stdout",
     "output_type": "stream",
     "text": [
      "Group 1:  ['sg0940', 'dd0420', 'msp0174', 'spk0057', 'bk0301', 'sg0940']\n",
      "Group 2:  ['dy0091', 'vmb0067', 'rs0850', 'rak0120', 'ss1995', 'yye0005']\n",
      "Group 3:  ['at0739', 'ttp0037', 'pk0339', 'rrk0058', 'hc0439', 'hn0145']\n",
      "Group 4:  ['pn0159', 'pn0159', 'mv0299', 'at0768', 'py0080', 'mn0426']\n",
      "Group 5:  ['tv0119', 'ds0761', 'snd0097', 'snd0097', 'vl0135', 'ri0094']\n",
      "Group 6:  ['pc0353', 'pc0353', 'nm0547', 'nm0547', 'pc0353', 'nm0547']\n"
     ]
    }
   ],
   "source": [
    "# write your answer here\n",
    "import random\n",
    "student_list = ['vmb0067','pc0353','snd0097','yye0005','sg0940','bk0301','rak0120','rrk0058','spk0057','vl0135','nm0547','pn0159',\n",
    "           'msp0174','dd0420','ds0761','rs0850','ss1995','at0739','at0768','mv0299','tv0119','dy0091','py0080','ttp0037','hc0439','ri0094','pk0339', 'hn0145','mn0426']\n",
    "\n",
    "for i in range(6):\n",
    "  sampling = random.choices(student_list, k=6)\n",
    "  student_list = [i for i in student_list if i not in sampling]\n",
    "  print(\"Group \" + str(i+1) + \": \", sampling)"
   ]
  },
  {
   "cell_type": "markdown",
   "metadata": {},
   "source": [
    "(10) Write a Python program to find the duplicate elements in a given array of integers. Return -1 If there are no such elements. (4 points)"
   ]
  },
  {
   "cell_type": "code",
   "execution_count": 7,
   "metadata": {},
   "outputs": [
    {
     "name": "stdin",
     "output_type": "stream",
     "text": [
      "Please enter number of elements 5\n",
      "Please enter the array elements 4\n",
      "Please enter the array elements 4\n",
      "Please enter the array elements 5\n",
      "Please enter the array elements 6\n",
      "Please enter the array elements 7\n"
     ]
    },
    {
     "name": "stdout",
     "output_type": "stream",
     "text": [
      "The entered array elements are\n",
      "4\n",
      "4\n",
      "5\n",
      "6\n",
      "7\n",
      "Duplicate elements in given array: \n",
      "4\n"
     ]
    }
   ],
   "source": [
    "# write your answer here\n",
    "from array import *\n",
    "arr = array('i', [])\n",
    "n = int(input(\"Please enter number of elements\"))\n",
    "for i in range(n):\n",
    "   arr.append(int(input(\"Please enter the array elements\")))\n",
    "print(\"The entered array elements are\")\n",
    "for i in range(len(arr)):\n",
    "   print(arr[i])\n",
    "print(\"Duplicate elements in given array: \")\n",
    "for i in range(0, len(arr)):\n",
    "   for j in range(i+1, len(arr)):\n",
    "       if(arr[i] == arr[j]):\n",
    "           print(arr[j])"
   ]
  },
  {
   "cell_type": "markdown",
   "metadata": {},
   "source": [
    "(11) Write a Python program to select all the Sundays of a specified year. (4 extra points)"
   ]
  },
  {
   "cell_type": "code",
   "execution_count": 11,
   "metadata": {},
   "outputs": [],
   "source": [
    "# write your answer here\n"
   ]
  }
 ],
 "metadata": {
  "colab": {
   "collapsed_sections": [],
   "include_colab_link": true,
   "name": "In_class_exercise_01.ipynb",
   "provenance": []
  },
  "kernelspec": {
   "display_name": "Python 3",
   "language": "python",
   "name": "python3"
  },
  "language_info": {
   "codemirror_mode": {
    "name": "ipython",
    "version": 3
   },
   "file_extension": ".py",
   "mimetype": "text/x-python",
   "name": "python",
   "nbconvert_exporter": "python",
   "pygments_lexer": "ipython3",
   "version": "3.7.8"
  }
 },
 "nbformat": 4,
 "nbformat_minor": 4
}
