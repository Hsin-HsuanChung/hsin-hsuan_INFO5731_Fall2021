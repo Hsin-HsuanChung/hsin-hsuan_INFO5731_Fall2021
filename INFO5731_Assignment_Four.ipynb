{
 "cells": [
  {
   "cell_type": "markdown",
   "metadata": {
    "colab_type": "text",
    "id": "view-in-github"
   },
   "source": [
    "<a href=\"https://colab.research.google.com/github/unt-iialab/INFO5731_Spring2020/blob/master/Assignments/INFO5731_Assignment_Four.ipynb\" target=\"_parent\"><img src=\"https://colab.research.google.com/assets/colab-badge.svg\" alt=\"Open In Colab\"/></a>"
   ]
  },
  {
   "cell_type": "markdown",
   "metadata": {
    "colab_type": "text",
    "id": "USSdXHuqnwv9"
   },
   "source": [
    "# **INFO5731 Assignment Four**\n",
    "\n",
    "In this assignment, you are required to conduct topic modeling, sentiment analysis based on **the dataset you created from assignment three**."
   ]
  },
  {
   "cell_type": "markdown",
   "metadata": {
    "colab_type": "text",
    "id": "YWxodXh5n4xF"
   },
   "source": [
    "# **Question 1: Topic Modeling**"
   ]
  },
  {
   "cell_type": "markdown",
   "metadata": {
    "colab_type": "text",
    "id": "TenBkDJ5n95k"
   },
   "source": [
    "(30 points). This question is designed to help you develop a feel for the way topic modeling works, the connection to the human meanings of documents. Based on the dataset from assignment three, write a python program to **identify the top 10 topics in the dataset**. Before answering this question, please review the materials in lesson 8, especially the code for LDA and LSA. The following information should be reported:\n",
    "\n",
    "(1) Features (top n-gram phrases) used for topic modeling.\n",
    "\n",
    "(2) Top 10 clusters for topic modeling.\n",
    "\n",
    "(3) Summarize and describe the topic for each cluster. \n"
   ]
  },
  {
   "cell_type": "code",
   "execution_count": 40,
   "metadata": {},
   "outputs": [
    {
     "name": "stderr",
     "output_type": "stream",
     "text": [
      "[nltk_data] Downloading package stopwords to\n",
      "[nltk_data]     /Users/chunghsinhsuan/nltk_data...\n",
      "[nltk_data]   Package stopwords is already up-to-date!\n",
      "[nltk_data] Downloading package wordnet to\n",
      "[nltk_data]     /Users/chunghsinhsuan/nltk_data...\n",
      "[nltk_data]   Package wordnet is already up-to-date!\n"
     ]
    }
   ],
   "source": [
    "import json\n",
    "import pandas as pd\n",
    "import spacy\n",
    "from nltk.corpus import stopwords\n",
    "import string\n",
    "from nltk.stem.wordnet import WordNetLemmatizer\n",
    "import nltk\n",
    "nltk.download('stopwords')\n",
    "nltk.download('wordnet')\n",
    "import os.path\n",
    "from gensim import corpora, models\n",
    "from gensim import corpora\n",
    "from gensim.models import LsiModel\n",
    "from nltk.tokenize import RegexpTokenizer\n",
    "from nltk.corpus import stopwords\n",
    "from nltk.stem.porter import PorterStemmer\n",
    "from gensim.models.coherencemodel import CoherenceModel\n",
    "import matplotlib.pyplot as plt"
   ]
  },
  {
   "cell_type": "code",
   "execution_count": 3,
   "metadata": {
    "colab": {},
    "colab_type": "code",
    "id": "PuFPKhC0m1fd"
   },
   "outputs": [
    {
     "data": {
      "text/html": [
       "<div>\n",
       "<style scoped>\n",
       "    .dataframe tbody tr th:only-of-type {\n",
       "        vertical-align: middle;\n",
       "    }\n",
       "\n",
       "    .dataframe tbody tr th {\n",
       "        vertical-align: top;\n",
       "    }\n",
       "\n",
       "    .dataframe thead th {\n",
       "        text-align: right;\n",
       "    }\n",
       "</style>\n",
       "<table border=\"1\" class=\"dataframe\">\n",
       "  <thead>\n",
       "    <tr style=\"text-align: right;\">\n",
       "      <th></th>\n",
       "      <th>document_id</th>\n",
       "      <th>clean_text</th>\n",
       "      <th>sentiment</th>\n",
       "    </tr>\n",
       "  </thead>\n",
       "  <tbody>\n",
       "    <tr>\n",
       "      <th>0</th>\n",
       "      <td>1</td>\n",
       "      <td>purchas product advertis fulli unlock insert ...</td>\n",
       "      <td>negative</td>\n",
       "    </tr>\n",
       "    <tr>\n",
       "      <th>1</th>\n",
       "      <td>2</td>\n",
       "      <td>start that sad look like new</td>\n",
       "      <td>negative</td>\n",
       "    </tr>\n",
       "    <tr>\n",
       "      <th>2</th>\n",
       "      <td>3</td>\n",
       "      <td>bought refurbish i m assum open box item seem...</td>\n",
       "      <td>positive</td>\n",
       "    </tr>\n",
       "    <tr>\n",
       "      <th>3</th>\n",
       "      <td>4</td>\n",
       "      <td>phone initi bought one daughter end order one</td>\n",
       "      <td>positive</td>\n",
       "    </tr>\n",
       "    <tr>\n",
       "      <th>4</th>\n",
       "      <td>5</td>\n",
       "      <td>scratch damag matter part happi took plung bo...</td>\n",
       "      <td>positive</td>\n",
       "    </tr>\n",
       "  </tbody>\n",
       "</table>\n",
       "</div>"
      ],
      "text/plain": [
       "   document_id                                         clean_text sentiment\n",
       "0            1   purchas product advertis fulli unlock insert ...  negative\n",
       "1            2                      start that sad look like new   negative\n",
       "2            3   bought refurbish i m assum open box item seem...  positive\n",
       "3            4     phone initi bought one daughter end order one   positive\n",
       "4            5   scratch damag matter part happi took plung bo...  positive"
      ]
     },
     "execution_count": 3,
     "metadata": {},
     "output_type": "execute_result"
    }
   ],
   "source": [
    "import pandas as pd\n",
    "papers = pd.read_csv(\"clean_text_sentiment analysis.csv\",encoding = \"ISO-8859-1\")\n",
    "papers_data = papers['clean_text']\n",
    "papers.head()"
   ]
  },
  {
   "cell_type": "code",
   "execution_count": 41,
   "metadata": {},
   "outputs": [],
   "source": [
    "#preprocessing \n",
    "df['Lower Case'] = df['clean_text'].apply(lambda x: \" \".join(x.lower() for x in str(x).split()))\n",
    "Tokenizer = RegexpTokenizer(r'\\w+')\n",
    "df['Tokenization'] = df['Lower Case'].apply(lambda x: Tokenizer.tokenize(x))\n",
    "en_stop = set(nltk.corpus.stopwords.words('english'))\n",
    "df['Tokens'] = df['Tokenization'].apply(lambda x: [i for i in x if not i in en_stop])\n",
    "Stemmer = PorterStemmer()\n",
    "df['Stemming'] = df['Tokens'].apply(lambda x: [Stemmer.stem(i) for i in x])"
   ]
  },
  {
   "cell_type": "code",
   "execution_count": 42,
   "metadata": {},
   "outputs": [
    {
     "name": "stdout",
     "output_type": "stream",
     "text": [
      "['purcha', 'product', 'adverti', 'fulli', 'unlock', 'insert', 'card', 'work', 'contract', 'servic', 'provid', 'check', 'number', 'report', 'still', 'lock', 'origin', 'carrier', 'condit', 'use', 'servic', 'provid', 'start', 'sad', 'look', 'like', 'new', 'bought', 'refurbish', 'assum', 'open', 'box', 'item', 'seem', '100brand', 'recommend', 'seller', 'phone', 'initi', 'bought', 'one', 'daughter', 'end', 'order', 'one', 'scratch', 'damag', 'matter', 'part', 'happi', 'took', 'plung', 'bought', 'well', 'worth', 'far', 'capac', '100', 'lock', 'flicker', 'get', 'flurri', 'everyth', 'el', 'seem', 'fine', 'tri', 'start', 'work', 'honesti', 'greatli', 'appreci', 'day', 'deliv', 'exactli', 'promi', 'arriv', 'time', 'look', 'brand', 'everyth', 'work', 'smoothli', 'expect', 'unfortun', 'want', 'thrill', 'size', 'alway', 'like', 'larger', 'phone', 'contract', 'seller', 'refund', 'kindli', 'instruct', 'return', 'item', 'order', 'get', 'full', 'refund', 'back', 'card', 'far', 'complaint', 'definit', 'busi', 'peopl', 'look', 'amazon', 'renew', 'phone', 'coupl', 'week', 'skeptic', 'order', 'renew', 'decid', 'phone', 'saw', 'phone', '11', '30', 'put', 'procrastin', 'order', 'coupl', 'hour', 'partli', 'review', 'time', 'decid', 'go', 'sinc', 'could', 'sent', 'back', 'check', 'crack', 'day', 'suppo', 'deliv', 'saw', 'review', 'post', 'day', 'becam', 'concern', 'made', 'bad', 'deci', 'prepar', 'disappoint', 'arriv', 'complet', 'dead', 'put', 'charg', 'look', 'like', 'charg', 'concern', '30', 'minut', 'enough', 'power', 'issu', 'far', 'bought', 'brand', 'cosmet', 'flaw', 'anywh', 'plea', 'far', 'work', 'provid', 'say', 'realli', 'wish', 'paid', 'star', 'rate', 'bought', 'pro', 'condit', 'well', 'son', 'realli', 'unlock', 'weird', 'hardwar', 'configur', 'connect', 'provid', 'said', 'horizon', 'network', 'bought', 'could', 'switch', 'spring', 'work', 'spring', 'contract', 'seller', 'support', 'gave', 'lot', 'thing', 'tri', 'tri', 'long', 'enough', 'return', 'window', 'pa', 'basic', 'said', 'bad', 'spend', 'littl', 'get', 'properli', 'return', 'got', 'anoth', 'order', '500', 'suppo', 'renew', 'fulli', 'unlock', 'upon', 'receiv', 'notic', 'pit', 'scratch', 'back', 'bigger', 'sinc', 'case', 'upon', 'instal', 'card', 'exist', 'boost', 'phone', 'work', 'said', 'servic', 'top', 'corner', 'went', 'boost', 'webster', 'tri', 'activ', 'notic', '449', 'decid', 'send', 'back', 'order', 'boost', 'know', 'issu', 'transfer', 'card', 'exist', 'amaz', 'shape', 'come', 'origin', 'box', 'fine', 'come', 'origin', 'charg', 'also', 'okay', 'still', 'nice', 'lengthi', 'charg', 'regardless', '100', 'capac', 'absolut', 'debt', 'scratch', 'far', 'day', 'deliveri', 'process', 'went', 'smoothli', 'look', 'fairli', 'give', 'away', 'come', 'box', 'origin', 'charg', 'use', 'purcha', 'price', 'feel', 'like', 'get', 'deal', 'definit', 'better', 'pay', 'thousand', 'origin', 'box', 'charg', 'earbud', 'believ', 'miss', 'appear', 'unlock', 'use', 'att', 'fine', 'time', 'wrap', 'enjoy', 'much', 'thank', 'amazon', 'offer', 'refurbish', 'spend', '150', 'month', 'lea', 'payment', 'compani', 'famili', 'seven', 'kiss', 'want', 'keep', 'jone', 'horizon', 'offer', 'repaid', 'plan', 'unlimit', 'everyth', '35', 'right', '35', 'month', 'draft', 'card', 'go', 'store', 'pay', 'get', 'servic', 'paid', '150', 'month', '35', 'amazon', 'offer', 'refurbish', 'phone', 'thank', 'amazon', 'thank', 'whoever', 'refurbish', 'phone', 'plea', 'take', 'adviceswitch', 'repaid', 'buy', 'pair', 'shoe', 'everi', 'month', 'save', 'got', 'today', 'got', 'activ', 'cricket', 'perfectli', 'thing', 'right', 'small', 'black', 'shadow', 'bottom', 'start', 'next', 'coupl', 'day', 'wont', 'go', 'away', 'send', 'back', 'love', '62', 'day', 'old', 'bright', 'light', 'bottom', 'page', 'disappear', 'freez', 'amazon', 'told', 'seller', 'send', 'anoth', 'one', 'wait', '3', 'month', 'seller', 'keep', 'refu', 'amazon', 'promi', 'talk', 'get', 'anoth', 'one', '4', 'time', 'sinc', 'april', 'never', 'buy', 'seller', 'amazon', 'direct', 'control', 'also', 'get', 'hot', 'hold', 'charg', 'long', 'time', 'wear', 'fast', 'brand', 'qualiti', 'best', 'price', 'happi', 'recommend', 'wish', 'earbud', 'though', 'love', 'phone', '11', 'bought', 'phone', '11', 'bit', 'nervou', 'v', 'never', 'purcha', 'outsid', 'store', 'concern', 'read', 'mani', 'mani', 'review', 'amazon', 'found', 'best', 'review', 'disappoint', 'crackednot', 'scratch', 'life', 'camera', 'astound', 'ador', 'color', 'highli', 'recommend', 'purcha', 'hang', 'get', 'set', 'horizon', 'issu', 'never', 'simpl', 'howev', 'kind', 'expect', 'custom', 'servic', 'struggl', 'twitch', 'account', 'anoth', 'account', 'though', 'noth', 'horizon', 'servic', 'delay', 'two', 'week', 'receiv', 'get', 'set', 'horizon', 'store', 'last', 'one', 'month', 'store', 'told', 'take', '5', 'day', 'get', 'exasp', 'without', 'long', 'trade', 'bought', 'never', 'buy', 'refurbish', 'realli', 'cost', 'resist', 'get', 'renew', 'work', 'well', 'adverti', 'happi', 'renew', 'son', 'degrad', 'matter', 'life', 'renew', 'refurbish', 'pro', 'cosmet', 'perfect', 'work', 'condit', 'protector', 'factor', 'save', 'much', 'harsher', 'review', 'must', 'say', 'quit', 'impress', 'look', 'brand', 'satisfi', 'far', 'donna', 'keep', 'use', 'cour', 'hope', 'need', 'updat', 'far', 'quit', 'impress', 'v', 'month', 'start', 'pitch', 'freez', 'buy', 'warranti', 'packag', 'purcha', 'anoth', 'warranti', 'protect', 'packag', 'forgot', 'add', 'warranti', 'well', 'well', 'enough', 'minor', 'annoy', 'realli', 'problem', 'set', 'think', 'problem', 'problem', 'work', 'last', 'coupl', 'week', 'realli', 'love', 'contact', 'support', 'appar', 'multipl', 'devic', 'set', 'bit', 'lame', 'got', 'smooth', 'hell', 'still', 'believ', 'got', 'price', 'even', 'protector', 'problem', 'whatsoev', 'singl', 'mark', 'look', 'brand', 'far', 'work', 'fine', 'arriv', 'shape', 'seem', 'hold', 'charg', 'well', 'problem', 'suppli', 'aftermarket', 'charg', 'cabl', 'give', 'accessori', 'support', 'ratif', 'snap', 'anoth', 'charg', 'cabl', 'problem', 'stop', 'abl', 'fulli', 'charg', 'although', 'mine', 'arriv', 'origin', 'pack', 'well', 'pack', 'bubbl', 'wrap', 'glass', 'protector', 'instal', 'over', 'satisfi', 'although', 'count', 'v', 'day', 'everyth', 'seem', 'work', 'life', '86', 'go', 'whole', 'day', 'without', 'charg', 'end', 'day', 'usual', '4550', 'even', 'scratch', 'mark', 'notic', 'packag', 'deliv', 'time', 'even', 'charg', 'cure', 'product', 'still', 'work', 'glad', 'abl', 'save', 'money', 'knew', 'shot', 'dark', 'order', 'arriv', 'look', 'okay', 'lot', 'scratch', 'back', 'camera', 'whip', 'tri', 'set', 'updat', 'latest', 'skin', 'around', 'gave', 'option', 'return', 'exchang', 'hope', 'one', 'sanction', 'dont', 'dislik', 'product', 'dislik', 'fact', 'taken', 'account', 'one', 'notic', 'larg', 'amount', 'come', 'account', 'love', 'wish', 'set', 'headphon', 'whatev', 'arriv', 'time', 'look', 'almost', 'except', 'two', 'minor', 'blemish', 'circl', 'camera', 'function', 'perform', 'expect', 'without', 'issu', 'servic', 'thank', 'life', 'amaz', 'went', 'bed', 'one', 'night', '25', 'play', 'music', 'help', 'fall', 'asleep', 'play', 'night', '20', 'went', '5', 'entir', 'time', 'come', 'fulli', 'unlock', 'look', 'nice', 'refurbish', 'v', 'issu', 'think', 'need', 'thinner', 'thicker', 'feel', 'right', 'way', 'face', 'recognit', 'although', 'hope', 'updat', 'soon', 'also', 'recogn', 'could', 'protect', 'mask', 'accessori', 'cheap', 'made', 'china', 'type', 'also', 'box', 'dont', 'recommend', 'capac', 'skeptic', 'review', 'small', 'scratch', 'hard', 'see', 'unless', 'realli', 'look', 'thing', 'wrong', 'work', 'amaz', 'life', 'awesom', 'camera', 'hiccup', 'broke', 'crackedshak', 'unabl', 'due', 'use', 'liter', 'le', 'month', '90', 'day', 'warranti', 'dont', 'buy']\n"
     ]
    }
   ],
   "source": [
    "line = []\n",
    "for i in range(0,len(df['Stemming'])):\n",
    "    line+= df['Stemming'][i]\n",
    "print(line)"
   ]
  },
  {
   "cell_type": "code",
   "execution_count": 43,
   "metadata": {},
   "outputs": [
    {
     "name": "stdout",
     "output_type": "stream",
     "text": [
      "['purcha', 'product', 'adverti', 'fulli', 'unlock', 'insert', 'card', 'work', 'contract', 'servic', 'provid', 'check', 'number', 'report', 'still', 'lock', 'origin', 'carrier', 'condit', 'use', 'servic', 'provid']\n"
     ]
    }
   ],
   "source": [
    "# Bigrams and Trigrams\n",
    "Data = []\n",
    "for line in df['Stemming']:\n",
    "    Data.append(line)\n",
    "    \n",
    "bigram = models.Phrases(Data, min_count=5, threshold=100)\n",
    "trigram = models.Phrases(bigram[Data], threshold=100)\n",
    "bigram_mod = models.phrases.Phraser(bigram)\n",
    "trigram_mod = models.phrases.Phraser(trigram)\n",
    "print(trigram_mod[bigram_mod[Data[0]]])"
   ]
  },
  {
   "cell_type": "code",
   "execution_count": 45,
   "metadata": {},
   "outputs": [
    {
     "name": "stdout",
     "output_type": "stream",
     "text": [
      "[['purcha', 'product', 'adverti', 'card', 'work', 'contract', 'provid', 'check', 'number', 'report', 'still', 'lock', 'origin', 'carrier', 'condit', 'use', 'servic', 'provid'], ['start', 'sad', 'look', 'new'], ['buy', 'refurbish', 'assum', 'open', 'box', 'item', 'seem', 'recommend', 'seller'], ['phone', 'initi', 'buy', 'daughter', 'end', 'order'], ['scratch', 'take', 'buy', 'well', 'worth', 'far'], [], ['lock', 'flicker', 'get', 'flurri', 'seem', 'fine', 'tri', 'start', 'work'], ['look', 'brand', 'everyth', 'work', 'expect', 'unfortun', 'want', 'thrill', 'size', 'alway', 'large', 'phone', 'contract', 'seller', 'refund', 'kindli', 'instruct', 'return', 'item', 'order', 'get', 'full', 'refund', 'card', 'far', 'complaint', 'definit', 'busi', 'peopl'], ['look', 'amazon', 'renew', 'phone', 'week', 'skeptic', 'order', 'renew', 'decid', 'phone', 'see', 'phone', 'put', 'procrastin', 'order', 'hour', 'review', 'time', 'go', 'send', 'check', 'crack', 'day', 'deliv', 'see', 'day', 'concern', 'make', 'bad', 'deci', 'prepar', 'disappoint', 'arriv', 'complet', 'dead', 'put', 'charg', 'look', 'charg', 'concern', 'minut', 'enough', 'power', 'issu', 'far', 'buy', 'brand', 'cosmet', 'flaw', 'plea', 'far'], ['work', 'say', 'realli', 'wish', 'pay', 'star', 'rate', 'buy']]\n"
     ]
    }
   ],
   "source": [
    "##1##\n",
    "# Features (top n-gram phrases) used for topic modeling\n",
    "def Bigrams(Data):\n",
    "    return [bigram_mod[doc] for doc in Data]\n",
    "  \n",
    "def Trigrams(Data):\n",
    "    return [trigram_mod[bigram_mod[doc]] for doc in Data]\n",
    "\n",
    "def lemmatization(texts, allowed_postags=['NOUN', 'ADJ', 'VERB', 'ADV']):\n",
    "    output= []\n",
    "    for i in Data:\n",
    "        doc = nlp(\" \".join(i)) \n",
    "        output.append([token.lemma_ for token in doc if token.pos_ in allowed_postags])\n",
    "    return output\n",
    "Bigrams_Data = Bigrams(Data)\n",
    "nlp = spacy.load('en_core_web_sm', disable=['parser', 'ner'])\n",
    "Lemma = lemmatization(Bigrams_Data, allowed_postags=['NOUN', 'ADJ', 'VERB', 'ADV'])\n",
    "print(Lemma[:10])"
   ]
  },
  {
   "cell_type": "code",
   "execution_count": 46,
   "metadata": {},
   "outputs": [
    {
     "name": "stdout",
     "output_type": "stream",
     "text": [
      "[[(0, 1), (1, 1), (2, 1), (3, 1), (4, 1), (5, 1), (6, 1), (7, 1), (8, 1), (9, 1), (10, 2), (11, 1), (12, 1), (13, 1), (14, 1), (15, 1), (16, 1)], [(17, 1), (18, 1), (19, 1), (20, 1)], [(21, 1), (22, 1), (23, 1), (24, 1), (25, 1), (26, 1), (27, 1), (28, 1), (29, 1)], [(23, 1), (30, 1), (31, 1), (32, 1), (33, 1), (34, 1)], [(23, 1), (35, 1), (36, 1), (37, 1), (38, 1), (39, 1)], [], [(6, 1), (16, 1), (20, 1), (28, 1), (40, 1), (41, 1), (42, 1), (43, 1), (44, 1)], [(1, 1), (5, 1), (16, 1), (17, 1), (24, 1), (29, 1), (33, 1), (34, 1), (35, 1), (43, 1), (45, 1), (46, 1), (47, 1), (48, 1), (49, 1), (50, 1), (51, 1), (52, 1), (53, 1), (54, 1), (55, 1), (56, 1), (57, 2), (58, 1), (59, 1), (60, 1), (61, 1), (62, 1)], [(3, 1), (17, 2), (23, 1), (33, 2), (34, 3), (35, 2), (46, 1), (63, 1), (64, 1), (65, 1), (66, 2), (67, 1), (68, 2), (69, 1), (70, 1), (71, 2), (72, 1), (73, 1), (74, 1), (75, 1), (76, 1), (77, 1), (78, 1), (79, 1), (80, 1), (81, 1), (82, 1), (83, 1), (84, 1), (85, 1), (86, 1), (87, 1), (88, 2), (89, 2), (90, 1), (91, 2), (92, 1), (93, 1), (94, 1), (95, 1)], [(16, 1), (23, 1), (96, 1), (97, 1), (98, 1), (99, 1), (100, 1), (101, 1)]]\n"
     ]
    }
   ],
   "source": [
    "id2word = corpora.Dictionary(Lemma)\n",
    "Text1 = Lemma\n",
    "corpus = [id2word.doc2bow(text) for text in Text1]\n",
    "print(corpus[:10])"
   ]
  },
  {
   "cell_type": "code",
   "execution_count": 48,
   "metadata": {},
   "outputs": [
    {
     "data": {
      "text/plain": [
       "'card'"
      ]
     },
     "execution_count": 48,
     "metadata": {},
     "output_type": "execute_result"
    }
   ],
   "source": [
    "id2word[1]"
   ]
  },
  {
   "cell_type": "code",
   "execution_count": 49,
   "metadata": {},
   "outputs": [
    {
     "data": {
      "text/plain": [
       "'adverti'"
      ]
     },
     "execution_count": 49,
     "metadata": {},
     "output_type": "execute_result"
    }
   ],
   "source": [
    "id2word[0]"
   ]
  },
  {
   "cell_type": "code",
   "execution_count": 50,
   "metadata": {},
   "outputs": [
    {
     "data": {
      "text/plain": [
       "[[('adverti', 1),\n",
       "  ('card', 1),\n",
       "  ('carrier', 1),\n",
       "  ('check', 1),\n",
       "  ('condit', 1),\n",
       "  ('contract', 1),\n",
       "  ('lock', 1),\n",
       "  ('number', 1),\n",
       "  ('origin', 1),\n",
       "  ('product', 1),\n",
       "  ('provid', 2),\n",
       "  ('purcha', 1),\n",
       "  ('report', 1),\n",
       "  ('servic', 1),\n",
       "  ('still', 1),\n",
       "  ('use', 1),\n",
       "  ('work', 1)],\n",
       " [('look', 1), ('new', 1), ('sad', 1), ('start', 1)],\n",
       " [('assum', 1),\n",
       "  ('box', 1),\n",
       "  ('buy', 1),\n",
       "  ('item', 1),\n",
       "  ('open', 1),\n",
       "  ('recommend', 1),\n",
       "  ('refurbish', 1),\n",
       "  ('seem', 1),\n",
       "  ('seller', 1)],\n",
       " [('buy', 1),\n",
       "  ('daughter', 1),\n",
       "  ('end', 1),\n",
       "  ('initi', 1),\n",
       "  ('order', 1),\n",
       "  ('phone', 1)],\n",
       " [('buy', 1),\n",
       "  ('far', 1),\n",
       "  ('scratch', 1),\n",
       "  ('take', 1),\n",
       "  ('well', 1),\n",
       "  ('worth', 1)],\n",
       " [],\n",
       " [('lock', 1),\n",
       "  ('work', 1),\n",
       "  ('start', 1),\n",
       "  ('seem', 1),\n",
       "  ('fine', 1),\n",
       "  ('flicker', 1),\n",
       "  ('flurri', 1),\n",
       "  ('get', 1),\n",
       "  ('tri', 1)],\n",
       " [('card', 1),\n",
       "  ('contract', 1),\n",
       "  ('work', 1),\n",
       "  ('look', 1),\n",
       "  ('item', 1),\n",
       "  ('seller', 1),\n",
       "  ('order', 1),\n",
       "  ('phone', 1),\n",
       "  ('far', 1),\n",
       "  ('get', 1),\n",
       "  ('alway', 1),\n",
       "  ('brand', 1),\n",
       "  ('busi', 1),\n",
       "  ('complaint', 1),\n",
       "  ('definit', 1),\n",
       "  ('everyth', 1),\n",
       "  ('expect', 1),\n",
       "  ('full', 1),\n",
       "  ('instruct', 1),\n",
       "  ('kindli', 1),\n",
       "  ('large', 1),\n",
       "  ('peopl', 1),\n",
       "  ('refund', 2),\n",
       "  ('return', 1),\n",
       "  ('size', 1),\n",
       "  ('thrill', 1),\n",
       "  ('unfortun', 1),\n",
       "  ('want', 1)],\n",
       " [('check', 1),\n",
       "  ('look', 2),\n",
       "  ('buy', 1),\n",
       "  ('order', 2),\n",
       "  ('phone', 3),\n",
       "  ('far', 2),\n",
       "  ('brand', 1),\n",
       "  ('amazon', 1),\n",
       "  ('arriv', 1),\n",
       "  ('bad', 1),\n",
       "  ('charg', 2),\n",
       "  ('complet', 1),\n",
       "  ('concern', 2),\n",
       "  ('cosmet', 1),\n",
       "  ('crack', 1),\n",
       "  ('day', 2),\n",
       "  ('dead', 1),\n",
       "  ('deci', 1),\n",
       "  ('decid', 1),\n",
       "  ('deliv', 1),\n",
       "  ('disappoint', 1),\n",
       "  ('enough', 1),\n",
       "  ('flaw', 1),\n",
       "  ('go', 1),\n",
       "  ('hour', 1),\n",
       "  ('issu', 1),\n",
       "  ('make', 1),\n",
       "  ('minut', 1),\n",
       "  ('plea', 1),\n",
       "  ('power', 1),\n",
       "  ('prepar', 1),\n",
       "  ('procrastin', 1),\n",
       "  ('put', 2),\n",
       "  ('renew', 2),\n",
       "  ('review', 1),\n",
       "  ('see', 2),\n",
       "  ('send', 1),\n",
       "  ('skeptic', 1),\n",
       "  ('time', 1),\n",
       "  ('week', 1)],\n",
       " [('work', 1),\n",
       "  ('buy', 1),\n",
       "  ('pay', 1),\n",
       "  ('rate', 1),\n",
       "  ('realli', 1),\n",
       "  ('say', 1),\n",
       "  ('star', 1),\n",
       "  ('wish', 1)]]"
      ]
     },
     "execution_count": 50,
     "metadata": {},
     "output_type": "execute_result"
    }
   ],
   "source": [
    "[[(id2word[id], freq) for id, freq in cp] for cp in corpus[:10]]"
   ]
  },
  {
   "cell_type": "code",
   "execution_count": 51,
   "metadata": {},
   "outputs": [
    {
     "name": "stdout",
     "output_type": "stream",
     "text": [
      " purchas product advertis fulli unlock insert him card work contract servic provid check me number report still lock origin carrier condit couldn use servic provid  start that sad look like new  bought refurbish i m assum open box item seem 100brand recommend seller  phone initi bought one daughter end order one  scratch damag matter part happi took plung bought well worth far  capac 100  lock flicker get flurri everyth el seem fine tri start it work  honesti greatli appreci day deliv exactli promis arriv time look brand everyth work smoothli expect unfortun want thrill size alway like larger phone contract seller refund kindli instruct return item order get full refund back card far complaint definit busi peopl  look amazon renew phone coupl week skeptic order renew decid phone or saw phone 11 30 put procrastin order coupl hour partli review time decid go sinc could sent back check crack into day suppos deliv saw review post day becam concern made bad decis prepar disappoint arriv complet dead put charg didn t look like charg concern 30 minut enough power haven t issu far it bought brand cosmet flaw anywher plea far  doesn t work provid say realli wish i d paid star rate bought  pro condit well  son it realli unlock weird hardwar configur won t connect provid said horizon network bought could switch spring didn t work spring contract seller support gave lot thing tri tri long enough return window pas basic said bad  i d spend littl get properli return got anoth  order 500 it suppos renew fulli unlock upon receiv notic pit scratch back bigger sinc case upon instal him card exist boost phone wouldn t work said servic top corner went boost webster tri activ notic 449 decid send back order boost know won t issu transfer him card exist  amaz shape didn t come it origin box fine didn t come origin charg also okay still nice lengthi charg regardless 100 capac absolut debt scratch  far day deliveri process went smoothli look fairli give away come box origin charg use purchas price feel like get deal definit better pay thousand origin box charg earbud believ i m miss appear unlock use att fine  time wrap in enjoy much  i m thank amazon offer refurbish i m spend 150 month lea payment compani famili seven kiss want keep jone horizon offer repaid plan unlimit everyth 35 that right 35 month draft card go store pay get servic paid 150 month 35 can not amazon offer refurbish phone thank amazon thank whoever refurbish phone plea take adviceswitch repaid buy pair shoe everi month save  got today got activ cricket perfectli thing right small black shadow bottom start next coupl day wont go away send back love  62 day old bright light bottom page disappear freez amazon told seller send anoth one wait 3 month seller keep refus amazon promis talk get anoth one 4 time sinc april never buy seller amazon direct control also get hot hold charg long time wear fast  brand qualiti best price happi recommend wish earbud though  love phone 11 bought phone 11 bit nervou i v never purchas outsid store concern read mani mani review amazon found best review disappoint crackednot scratch life camera astound ador color highli recommend purchas hang get set horizon issu never simpl howev kind expect custom servic struggl twitch account anoth account though noth horizon servic  delay two week receiv get set horizon store last one month store told take 5 day get exasper without long trade bought never buy refurbish realli cost  resist get renew work well advertis in happi renew  son degrad matter life renew refurbish  pro cosmet perfect work condit protector factor save much harsher review  must say i m quit impress look brand satisfi far donna keep use cours hope won t need updat far i m quit impress  i v month start pitch freez buy warranti packag purchas anoth warranti protect packag forgot add warranti well well enough minor annoy  realli problem set think that problem problem it work last coupl week realli love  contact support appar multipl is devic set bit lame got smooth hell still can t believ got price even protector  problem whatsoev singl mark look brand far it work fine  arriv shape seem hold charg well problem suppli aftermarket charg cabl give accessori supported ratif snap anoth charg cabl problem stop abl fulli charg although mine arriv origin pack well pack bubbl wrap glass protector instal overal satisfi although don t count  i v day everyth seem work life 86 go whole day without charg end day usual 4550 isn t even scratch mark notic packag deliv time even charg cure product still work glad abl save money  knew shot dark order arriv look okay lot scratch back camera whip tri set updat latest is skin around gave option return exchang hope one sanction  dont dislik product dislik fact taken account one notic larg amount come account  love wish set headphon whatev  arriv time look almost except two minor blemish circle camera function perform expect without issu servic thank  life amaz went bed one night 25 play music help fall asleep play night 20 went 5 entir time ¤¯ come fulli unlock look nice refurbish  i v issu don t think need thinner thicker feel right way  face recognit although hope updat soon also recogn could protect mask  accessori cheap made china type  also box dont recommend  capac  skeptic review small scratch hard see unless realli look thing wrong work amaz life awesom camera hiccup  broke crackedshak unabl due use liter le month 90 day warranti dont buy \n"
     ]
    },
    {
     "name": "stderr",
     "output_type": "stream",
     "text": [
      "[nltk_data] Downloading package punkt to\n",
      "[nltk_data]     /Users/chunghsinhsuan/nltk_data...\n",
      "[nltk_data]   Package punkt is already up-to-date!\n"
     ]
    },
    {
     "data": {
      "text/plain": [
       "FreqDist({('refurbish', 'i', 'm'): 2, ('arriv', 'time', 'look'): 2, ('him', 'card', 'exist'): 2, ('didn', 't', 'come'): 2, ('amazon', 'offer', 'refurbish'): 2, ('get', 'set', 'horizon'): 2, ('i', 'm', 'quit'): 2, ('m', 'quit', 'impress'): 2, ('purchas', 'product', 'advertis'): 1, ('product', 'advertis', 'fulli'): 1, ...})"
      ]
     },
     "execution_count": 51,
     "metadata": {},
     "output_type": "execute_result"
    }
   ],
   "source": [
    "data2 = ''\n",
    "for i in range(0,len(df['clean_text'])):\n",
    "    data2+= df['clean_text'][i]\n",
    "print(data2)\n",
    "\n",
    "nltk.download('punkt')\n",
    "words = nltk.word_tokenize(data2)\n",
    "\n",
    "Trigramss = nltk.trigrams(words)\n",
    "freqT = nltk.FreqDist(Trigramss)\n",
    "freqT"
   ]
  },
  {
   "cell_type": "code",
   "execution_count": 53,
   "metadata": {},
   "outputs": [
    {
     "name": "stdout",
     "output_type": "stream",
     "text": [
      "[(0,\n",
      "  '0.036*\"month\" + 0.027*\"day\" + 0.027*\"refurbish\" + 0.027*\"thank\" + '\n",
      "  '0.027*\"offer\" + 0.027*\"amazon\" + 0.018*\"right\" + 0.018*\"go\" + 0.018*\"repay\" '\n",
      "  '+ 0.018*\"phone\"'),\n",
      " (1,\n",
      "  '0.031*\"come\" + 0.023*\"also\" + 0.023*\"do\" + 0.023*\"buy\" + 0.023*\"get\" + '\n",
      "  '0.023*\"renew\" + 0.023*\"refurbish\" + 0.016*\"origin\" + 0.016*\"account\" + '\n",
      "  '0.016*\"day\"'),\n",
      " (2,\n",
      "  '0.027*\"phone\" + 0.023*\"get\" + 0.023*\"buy\" + 0.022*\"seller\" + 0.018*\"time\" + '\n",
      "  '0.018*\"day\" + 0.017*\"far\" + 0.014*\"look\" + 0.014*\"horizon\" + 0.014*\"never\"'),\n",
      " (3,\n",
      "  '0.037*\"charg\" + 0.037*\"problem\" + 0.020*\"well\" + 0.020*\"stop\" + '\n",
      "  '0.020*\"support\" + 0.020*\"seem\" + 0.020*\"protector\" + 0.020*\"satisfi\" + '\n",
      "  '0.020*\"snap\" + 0.020*\"aftermarket\"'),\n",
      " (4,\n",
      "  '0.055*\"get\" + 0.029*\"spend\" + 0.029*\"anoth\" + 0.029*\"properli\" + '\n",
      "  '0.029*\"return\" + 0.003*\"play\" + 0.003*\"go\" + 0.003*\"price\" + 0.003*\"night\" '\n",
      "  '+ 0.003*\"entir\"'),\n",
      " (5,\n",
      "  '0.034*\"work\" + 0.023*\"condit\" + 0.023*\"start\" + 0.023*\"pro\" + '\n",
      "  '0.023*\"refund\" + 0.023*\"brand\" + 0.022*\"look\" + 0.021*\"get\" + 0.012*\"lock\" '\n",
      "  '+ 0.012*\"save\"'),\n",
      " (6,\n",
      "  '0.030*\"provid\" + 0.030*\"still\" + 0.030*\"get\" + 0.016*\"use\" + 0.016*\"end\" + '\n",
      "  '0.016*\"initi\" + 0.016*\"daughter\" + 0.016*\"buy\" + 0.016*\"phone\" + '\n",
      "  '0.016*\"order\"'),\n",
      " (7,\n",
      "  '0.033*\"far\" + 0.025*\"look\" + 0.025*\"box\" + 0.025*\"use\" + 0.025*\"boost\" + '\n",
      "  '0.017*\"order\" + 0.017*\"brand\" + 0.017*\"fine\" + 0.017*\"go\" + 0.017*\"origin\"'),\n",
      " (8,\n",
      "  '0.028*\"scratch\" + 0.028*\"work\" + 0.028*\"realli\" + 0.028*\"look\" + '\n",
      "  '0.028*\"camera\" + 0.015*\"back\" + 0.015*\"order\" + 0.015*\"know\" + 0.015*\"say\" '\n",
      "  '+ 0.015*\"buy\"'),\n",
      " (9,\n",
      "  '0.045*\"warranti\" + 0.045*\"problem\" + 0.030*\"packag\" + 0.030*\"love\" + '\n",
      "  '0.030*\"set\" + 0.016*\"well\" + 0.016*\"buy\" + 0.016*\"enough\" + 0.016*\"start\" + '\n",
      "  '0.016*\"protect\"')]\n"
     ]
    }
   ],
   "source": [
    "##2##\n",
    "# LDA model\n",
    "# Top 10 clusters for topic modeling\n",
    "lDmodel = models.ldamodel.LdaModel(corpus=corpus,id2word=id2word,num_topics = 10, \n",
    "                                   random_state=100,update_every=1,chunksize=100,\n",
    "                                   passes=10,alpha='auto',per_word_topics=True)\n",
    "from pprint import pprint\n",
    "pprint(lDmodel.print_topics())\n",
    "IDM1 = lDmodel[corpus]"
   ]
  },
  {
   "cell_type": "code",
   "execution_count": 54,
   "metadata": {},
   "outputs": [
    {
     "name": "stdout",
     "output_type": "stream",
     "text": [
      "\n",
      "Perplexity:  -6.211345844289929\n",
      "\n",
      "Coherence Score:  0.43888770751572864\n"
     ]
    }
   ],
   "source": [
    "from gensim.models import CoherenceModel\n",
    "print('\\nPerplexity: ', lDmodel.log_perplexity(corpus))\n",
    "coherence_model_lda = CoherenceModel(model=lDmodel, texts=Lemma, dictionary=id2word, coherence='c_v')\n",
    "coherence_lda = coherence_model_lda.get_coherence()\n",
    "print('\\nCoherence Score: ', coherence_lda)"
   ]
  },
  {
   "cell_type": "code",
   "execution_count": 65,
   "metadata": {},
   "outputs": [
    {
     "name": "stdout",
     "output_type": "stream",
     "text": [
      "[(0,\n",
      "  '0.326*\"phone\" + 0.252*\"month\" + 0.246*\"amazon\" + 0.244*\"get\" + 0.224*\"buy\" '\n",
      "  '+ 0.208*\"day\" + 0.187*\"refurbish\" + 0.169*\"go\" + 0.157*\"charg\" + '\n",
      "  '0.156*\"thank\"'),\n",
      " (1,\n",
      "  '-0.346*\"month\" + -0.257*\"refurbish\" + -0.243*\"offer\" + -0.241*\"thank\" + '\n",
      "  '0.201*\"order\" + 0.199*\"look\" + 0.193*\"day\" + -0.184*\"amazon\" + '\n",
      "  '0.184*\"charg\" + 0.183*\"far\"'),\n",
      " (2,\n",
      "  '-0.391*\"get\" + -0.273*\"seller\" + 0.231*\"phone\" + -0.194*\"anoth\" + '\n",
      "  '0.174*\"order\" + -0.161*\"never\" + -0.142*\"day\" + -0.136*\"long\" + '\n",
      "  '-0.135*\"buy\" + -0.133*\"time\"'),\n",
      " (3,\n",
      "  '-0.263*\"account\" + -0.239*\"horizon\" + -0.236*\"never\" + -0.201*\"purcha\" + '\n",
      "  '-0.187*\"phone\" + 0.174*\"day\" + 0.172*\"charg\" + -0.162*\"set\" + 0.152*\"go\" + '\n",
      "  '-0.138*\"camera\"'),\n",
      " (4,\n",
      "  '-0.347*\"boost\" + -0.292*\"work\" + -0.281*\"card\" + -0.269*\"back\" + '\n",
      "  '-0.231*\"exist\" + -0.180*\"scratch\" + -0.165*\"say\" + -0.145*\"notic\" + '\n",
      "  '-0.139*\"order\" + 0.139*\"concern\"'),\n",
      " (5,\n",
      "  '0.296*\"origin\" + -0.278*\"seller\" + 0.208*\"use\" + 0.193*\"purcha\" + '\n",
      "  '-0.173*\"anoth\" + 0.160*\"box\" + -0.159*\"send\" + -0.151*\"order\" + '\n",
      "  '-0.133*\"boost\" + 0.132*\"well\"'),\n",
      " (6,\n",
      "  '0.310*\"day\" + -0.248*\"far\" + 0.220*\"even\" + -0.189*\"look\" + -0.176*\"use\" + '\n",
      "  '0.159*\"life\" + -0.151*\"return\" + -0.150*\"refund\" + -0.144*\"brand\" + '\n",
      "  '0.141*\"time\"'),\n",
      " (7,\n",
      "  '0.341*\"work\" + -0.196*\"origin\" + -0.182*\"charg\" + -0.174*\"boost\" + '\n",
      "  '0.165*\"contract\" + 0.161*\"refund\" + 0.153*\"everyth\" + -0.148*\"problem\" + '\n",
      "  '0.144*\"return\" + 0.144*\"even\"'),\n",
      " (8,\n",
      "  '-0.305*\"problem\" + -0.227*\"warranti\" + 0.221*\"get\" + -0.218*\"buy\" + '\n",
      "  '0.186*\"go\" + -0.165*\"say\" + -0.162*\"charg\" + -0.161*\"enough\" + '\n",
      "  '-0.159*\"support\" + -0.159*\"well\"'),\n",
      " (9,\n",
      "  '0.367*\"warranti\" + -0.258*\"problem\" + 0.215*\"packag\" + 0.181*\"use\" + '\n",
      "  '0.161*\"start\" + 0.157*\"purcha\" + -0.141*\"seller\" + 0.134*\"day\" + '\n",
      "  '-0.133*\"charg\" + 0.128*\"box\"')]\n"
     ]
    }
   ],
   "source": [
    "# LSA model\n",
    "# Top 10 clusters for topic modeling\n",
    "lSamodel = models.LsiModel(corpus, num_topics = 10, id2word = id2word)\n",
    "pprint(lSamodel.print_topics(num_topics = 10))"
   ]
  },
  {
   "cell_type": "code",
   "execution_count": null,
   "metadata": {},
   "outputs": [],
   "source": [
    "##3##\n",
    "# Summarize and describe the topic for each cluster\n",
    "'''\n",
    "Topic1: Refurbish phones\n",
    "Topic2: The age of the refurbished phones\n",
    "Topic3: Negative reviews\n",
    "Topic4: Charge functions\n",
    "Topic5: Scratch on phones\n",
    "Topic6: Camera functions\n",
    "Topic7: Refund and return phones\n",
    "Topic8: The problem of the refurbished phones\n",
    "Topic9: The warranti of the refurbished phones\n",
    "Topic10: The package and box of the refurbished phones\n",
    "'''"
   ]
  },
  {
   "cell_type": "markdown",
   "metadata": {
    "colab_type": "text",
    "id": "AfpMRCrRwN6Z"
   },
   "source": [
    "# **Question 2: Sentiment Analysis**"
   ]
  },
  {
   "cell_type": "markdown",
   "metadata": {
    "colab_type": "text",
    "id": "1dCQEbDawWCw"
   },
   "source": [
    "(30 points). Sentiment analysis also known as opinion mining is a sub field within Natural Language Processing (NLP) that builds machine learning algorithms to classify a text according to the sentimental polarities of opinions it contains, e.g., positive, negative, neutral. The purpose of this question is to develop a machine learning classifier for sentiment analysis. Based on the dataset from assignment three, write a python program to implement a sentiment classifier and evaluate its performance. Notice: **80% data for training and 20% data for testing**.  \n",
    "\n",
    "(1) Features used for sentiment classification and explain why you select these features.\n",
    "\n",
    "(2) Select two of the supervised learning algorithm from scikit-learn library: https://scikit-learn.org/stable/supervised_learning.html#supervised-learning, to build a sentiment classifier respectively. \n",
    "\n",
    "(3) Compare the performance over accuracy, precision, recall, and F1 score for the two algorithms you selected. Here is the reference of how to calculate these metrics: https://towardsdatascience.com/accuracy-precision-recall-or-f1-331fb37c5cb9. "
   ]
  },
  {
   "cell_type": "code",
   "execution_count": 62,
   "metadata": {
    "colab": {},
    "colab_type": "code",
    "id": "vATjQNTY8buA"
   },
   "outputs": [],
   "source": [
    "import pandas as pd\n",
    "import warnings\n",
    "warnings.filterwarnings(\"ignore\")\n",
    "df = pd.read_csv('clean_text_sentiment analysis.csv',encoding = \"ISO-8859-1\")\n",
    "X = df['clean_text']\n",
    "y = df['sentiment']"
   ]
  },
  {
   "cell_type": "code",
   "execution_count": null,
   "metadata": {},
   "outputs": [],
   "source": [
    "##1##\n",
    "# why I select these features\n",
    "'''\n",
    "Features used for sentiment classification are logistic regression and SVM.\n",
    "I chose logistic regression and support vector machine algorithms because my dataset is very small. \n",
    "I chose SVM because its advantages are effective in high-dimensional spaces.\n",
    "'''"
   ]
  },
  {
   "cell_type": "code",
   "execution_count": 64,
   "metadata": {},
   "outputs": [
    {
     "name": "stdout",
     "output_type": "stream",
     "text": [
      "Accuracy: 0.5555555555555556\n",
      "Precision: 0.2380952380952381\n",
      "Recall: 0.2777777777777778\n",
      "f1 score: 0.2564102564102564\n"
     ]
    }
   ],
   "source": [
    "##2##\n",
    "# Select two of the supervised learning algorithm from scikit-learn library\n",
    "# to build a sentiment classifier respectively\n",
    "from sklearn.model_selection import train_test_split\n",
    "from sklearn.feature_extraction.text import CountVectorizer\n",
    "from sklearn import metrics\n",
    "from sklearn.metrics import accuracy_score\n",
    "from sklearn.metrics import precision_score\n",
    "from sklearn.metrics import recall_score\n",
    "from sklearn.metrics import f1_score\n",
    "from sklearn.linear_model import LogisticRegression\n",
    "\n",
    "X_train, X_test, y_train, y_test = train_test_split(X, y, test_size = 0.2, random_state=42)\n",
    "\n",
    "# Logistic Regression\n",
    "vect = CountVectorizer(min_df=2, ngram_range=(1, 2))\n",
    "X_train = vect.fit(X_train).transform(X_train) \n",
    "X_test = vect.transform(X_test)\n",
    "logreg = LogisticRegression()\n",
    "logreg.fit(X_train,y_train)\n",
    "y_pred=logreg.predict(X_test)\n",
    "print(\"Accuracy:\",metrics.accuracy_score(y_test, y_pred))\n",
    "print(\"Precision:\",metrics.precision_score(y_test, y_pred,average = 'macro'))\n",
    "print(\"Recall:\",metrics.recall_score(y_test, y_pred,average = 'macro'))\n",
    "print(\"f1 score:\",metrics.f1_score(y_test, y_pred,average = 'macro'))"
   ]
  },
  {
   "cell_type": "code",
   "execution_count": 63,
   "metadata": {},
   "outputs": [
    {
     "name": "stdout",
     "output_type": "stream",
     "text": [
      "Accuracy: 0.5555555555555556\n",
      "Precision: 0.35000000000000003\n",
      "Recall: 0.38888888888888884\n",
      "f1 score: 0.35353535353535354\n"
     ]
    }
   ],
   "source": [
    "# SVM\n",
    "from sklearn import svm\n",
    "X_train, X_test, y_train, y_test = train_test_split(X, y, test_size = 0.2, random_state=42)\n",
    "vect = CountVectorizer(min_df=2, ngram_range=(1, 2))\n",
    "X_train = vect.fit(X_train).transform(X_train) \n",
    "X_test = vect.transform(X_test)\n",
    "clf = svm.SVC(kernel='linear')\n",
    "clf.fit(X_train, y_train)\n",
    "y_pred = clf.predict(X_test)\n",
    "print(\"Accuracy:\",metrics.accuracy_score(y_test, y_pred))\n",
    "print(\"Precision:\",metrics.precision_score(y_test, y_pred,average = 'macro'))\n",
    "print(\"Recall:\",metrics.recall_score(y_test, y_pred,average = 'macro'))\n",
    "print(\"f1 score:\",metrics.f1_score(y_test, y_pred,average = 'macro'))"
   ]
  },
  {
   "cell_type": "code",
   "execution_count": null,
   "metadata": {},
   "outputs": [],
   "source": [
    "##3##\n",
    "# Compare the performance over accuracy, precision, recall, and F1 score\n",
    "'''\n",
    "Logistic Regression\n",
    "Accuracy: 0.5555555555555556\n",
    "Precision: 0.2380952380952381\n",
    "Recall: 0.2777777777777778\n",
    "F1 score: 0.2564102564102564\n",
    "\n",
    "SVM \n",
    "Accuracy: 0.5555555555555556\n",
    "Precision: 0.35000000000000003\n",
    "Recall: 0.38888888888888884\n",
    "F1 score: 0.35353535353535354\n",
    "\n",
    "I used two models Logistic Regression and SVM and did comparision of both model scores.\n",
    "'''"
   ]
  },
  {
   "cell_type": "markdown",
   "metadata": {
    "colab_type": "text",
    "id": "E5mmYIfN8eYV"
   },
   "source": [
    "# **Question 3: House price prediction**"
   ]
  },
  {
   "cell_type": "markdown",
   "metadata": {
    "colab_type": "text",
    "id": "hsi2y4z88ngX"
   },
   "source": [
    "(40 points). You are required to build a **regression** model to predict the house price with 79 explanatory variables describing (almost) every aspect of residential homes. The purpose of this question is to practice regression analysis, an supervised learning model. The training data, testing data, and data description files can be download here: https://github.com/unt-iialab/info5731_spring2021/blob/main/assignment/assignment4-question3-data.zip. Here is an axample for implementation: https://towardsdatascience.com/linear-regression-in-python-predict-the-bay-areas-home-price-5c91c8378878. \n"
   ]
  },
  {
   "cell_type": "code",
   "execution_count": 20,
   "metadata": {},
   "outputs": [
    {
     "data": {
      "text/html": [
       "<div>\n",
       "<style scoped>\n",
       "    .dataframe tbody tr th:only-of-type {\n",
       "        vertical-align: middle;\n",
       "    }\n",
       "\n",
       "    .dataframe tbody tr th {\n",
       "        vertical-align: top;\n",
       "    }\n",
       "\n",
       "    .dataframe thead th {\n",
       "        text-align: right;\n",
       "    }\n",
       "</style>\n",
       "<table border=\"1\" class=\"dataframe\">\n",
       "  <thead>\n",
       "    <tr style=\"text-align: right;\">\n",
       "      <th></th>\n",
       "      <th>Id</th>\n",
       "      <th>MSSubClass</th>\n",
       "      <th>LotFrontage</th>\n",
       "      <th>LotArea</th>\n",
       "      <th>OverallQual</th>\n",
       "      <th>OverallCond</th>\n",
       "      <th>YearBuilt</th>\n",
       "      <th>YearRemodAdd</th>\n",
       "      <th>MasVnrArea</th>\n",
       "      <th>BsmtFinSF1</th>\n",
       "      <th>...</th>\n",
       "      <th>WoodDeckSF</th>\n",
       "      <th>OpenPorchSF</th>\n",
       "      <th>EnclosedPorch</th>\n",
       "      <th>3SsnPorch</th>\n",
       "      <th>ScreenPorch</th>\n",
       "      <th>PoolArea</th>\n",
       "      <th>MiscVal</th>\n",
       "      <th>MoSold</th>\n",
       "      <th>YrSold</th>\n",
       "      <th>SalePrice</th>\n",
       "    </tr>\n",
       "  </thead>\n",
       "  <tbody>\n",
       "    <tr>\n",
       "      <th>count</th>\n",
       "      <td>1460.000000</td>\n",
       "      <td>1460.000000</td>\n",
       "      <td>1201.000000</td>\n",
       "      <td>1460.000000</td>\n",
       "      <td>1460.000000</td>\n",
       "      <td>1460.000000</td>\n",
       "      <td>1460.000000</td>\n",
       "      <td>1460.000000</td>\n",
       "      <td>1452.000000</td>\n",
       "      <td>1460.000000</td>\n",
       "      <td>...</td>\n",
       "      <td>1460.000000</td>\n",
       "      <td>1460.000000</td>\n",
       "      <td>1460.000000</td>\n",
       "      <td>1460.000000</td>\n",
       "      <td>1460.000000</td>\n",
       "      <td>1460.000000</td>\n",
       "      <td>1460.000000</td>\n",
       "      <td>1460.000000</td>\n",
       "      <td>1460.000000</td>\n",
       "      <td>1460.000000</td>\n",
       "    </tr>\n",
       "    <tr>\n",
       "      <th>mean</th>\n",
       "      <td>730.500000</td>\n",
       "      <td>56.897260</td>\n",
       "      <td>70.049958</td>\n",
       "      <td>10516.828082</td>\n",
       "      <td>6.099315</td>\n",
       "      <td>5.575342</td>\n",
       "      <td>1971.267808</td>\n",
       "      <td>1984.865753</td>\n",
       "      <td>103.685262</td>\n",
       "      <td>443.639726</td>\n",
       "      <td>...</td>\n",
       "      <td>94.244521</td>\n",
       "      <td>46.660274</td>\n",
       "      <td>21.954110</td>\n",
       "      <td>3.409589</td>\n",
       "      <td>15.060959</td>\n",
       "      <td>2.758904</td>\n",
       "      <td>43.489041</td>\n",
       "      <td>6.321918</td>\n",
       "      <td>2007.815753</td>\n",
       "      <td>180921.195890</td>\n",
       "    </tr>\n",
       "    <tr>\n",
       "      <th>std</th>\n",
       "      <td>421.610009</td>\n",
       "      <td>42.300571</td>\n",
       "      <td>24.284752</td>\n",
       "      <td>9981.264932</td>\n",
       "      <td>1.382997</td>\n",
       "      <td>1.112799</td>\n",
       "      <td>30.202904</td>\n",
       "      <td>20.645407</td>\n",
       "      <td>181.066207</td>\n",
       "      <td>456.098091</td>\n",
       "      <td>...</td>\n",
       "      <td>125.338794</td>\n",
       "      <td>66.256028</td>\n",
       "      <td>61.119149</td>\n",
       "      <td>29.317331</td>\n",
       "      <td>55.757415</td>\n",
       "      <td>40.177307</td>\n",
       "      <td>496.123024</td>\n",
       "      <td>2.703626</td>\n",
       "      <td>1.328095</td>\n",
       "      <td>79442.502883</td>\n",
       "    </tr>\n",
       "    <tr>\n",
       "      <th>min</th>\n",
       "      <td>1.000000</td>\n",
       "      <td>20.000000</td>\n",
       "      <td>21.000000</td>\n",
       "      <td>1300.000000</td>\n",
       "      <td>1.000000</td>\n",
       "      <td>1.000000</td>\n",
       "      <td>1872.000000</td>\n",
       "      <td>1950.000000</td>\n",
       "      <td>0.000000</td>\n",
       "      <td>0.000000</td>\n",
       "      <td>...</td>\n",
       "      <td>0.000000</td>\n",
       "      <td>0.000000</td>\n",
       "      <td>0.000000</td>\n",
       "      <td>0.000000</td>\n",
       "      <td>0.000000</td>\n",
       "      <td>0.000000</td>\n",
       "      <td>0.000000</td>\n",
       "      <td>1.000000</td>\n",
       "      <td>2006.000000</td>\n",
       "      <td>34900.000000</td>\n",
       "    </tr>\n",
       "    <tr>\n",
       "      <th>25%</th>\n",
       "      <td>365.750000</td>\n",
       "      <td>20.000000</td>\n",
       "      <td>59.000000</td>\n",
       "      <td>7553.500000</td>\n",
       "      <td>5.000000</td>\n",
       "      <td>5.000000</td>\n",
       "      <td>1954.000000</td>\n",
       "      <td>1967.000000</td>\n",
       "      <td>0.000000</td>\n",
       "      <td>0.000000</td>\n",
       "      <td>...</td>\n",
       "      <td>0.000000</td>\n",
       "      <td>0.000000</td>\n",
       "      <td>0.000000</td>\n",
       "      <td>0.000000</td>\n",
       "      <td>0.000000</td>\n",
       "      <td>0.000000</td>\n",
       "      <td>0.000000</td>\n",
       "      <td>5.000000</td>\n",
       "      <td>2007.000000</td>\n",
       "      <td>129975.000000</td>\n",
       "    </tr>\n",
       "    <tr>\n",
       "      <th>50%</th>\n",
       "      <td>730.500000</td>\n",
       "      <td>50.000000</td>\n",
       "      <td>69.000000</td>\n",
       "      <td>9478.500000</td>\n",
       "      <td>6.000000</td>\n",
       "      <td>5.000000</td>\n",
       "      <td>1973.000000</td>\n",
       "      <td>1994.000000</td>\n",
       "      <td>0.000000</td>\n",
       "      <td>383.500000</td>\n",
       "      <td>...</td>\n",
       "      <td>0.000000</td>\n",
       "      <td>25.000000</td>\n",
       "      <td>0.000000</td>\n",
       "      <td>0.000000</td>\n",
       "      <td>0.000000</td>\n",
       "      <td>0.000000</td>\n",
       "      <td>0.000000</td>\n",
       "      <td>6.000000</td>\n",
       "      <td>2008.000000</td>\n",
       "      <td>163000.000000</td>\n",
       "    </tr>\n",
       "    <tr>\n",
       "      <th>75%</th>\n",
       "      <td>1095.250000</td>\n",
       "      <td>70.000000</td>\n",
       "      <td>80.000000</td>\n",
       "      <td>11601.500000</td>\n",
       "      <td>7.000000</td>\n",
       "      <td>6.000000</td>\n",
       "      <td>2000.000000</td>\n",
       "      <td>2004.000000</td>\n",
       "      <td>166.000000</td>\n",
       "      <td>712.250000</td>\n",
       "      <td>...</td>\n",
       "      <td>168.000000</td>\n",
       "      <td>68.000000</td>\n",
       "      <td>0.000000</td>\n",
       "      <td>0.000000</td>\n",
       "      <td>0.000000</td>\n",
       "      <td>0.000000</td>\n",
       "      <td>0.000000</td>\n",
       "      <td>8.000000</td>\n",
       "      <td>2009.000000</td>\n",
       "      <td>214000.000000</td>\n",
       "    </tr>\n",
       "    <tr>\n",
       "      <th>max</th>\n",
       "      <td>1460.000000</td>\n",
       "      <td>190.000000</td>\n",
       "      <td>313.000000</td>\n",
       "      <td>215245.000000</td>\n",
       "      <td>10.000000</td>\n",
       "      <td>9.000000</td>\n",
       "      <td>2010.000000</td>\n",
       "      <td>2010.000000</td>\n",
       "      <td>1600.000000</td>\n",
       "      <td>5644.000000</td>\n",
       "      <td>...</td>\n",
       "      <td>857.000000</td>\n",
       "      <td>547.000000</td>\n",
       "      <td>552.000000</td>\n",
       "      <td>508.000000</td>\n",
       "      <td>480.000000</td>\n",
       "      <td>738.000000</td>\n",
       "      <td>15500.000000</td>\n",
       "      <td>12.000000</td>\n",
       "      <td>2010.000000</td>\n",
       "      <td>755000.000000</td>\n",
       "    </tr>\n",
       "  </tbody>\n",
       "</table>\n",
       "<p>8 rows × 38 columns</p>\n",
       "</div>"
      ],
      "text/plain": [
       "                Id   MSSubClass  LotFrontage        LotArea  OverallQual  \\\n",
       "count  1460.000000  1460.000000  1201.000000    1460.000000  1460.000000   \n",
       "mean    730.500000    56.897260    70.049958   10516.828082     6.099315   \n",
       "std     421.610009    42.300571    24.284752    9981.264932     1.382997   \n",
       "min       1.000000    20.000000    21.000000    1300.000000     1.000000   \n",
       "25%     365.750000    20.000000    59.000000    7553.500000     5.000000   \n",
       "50%     730.500000    50.000000    69.000000    9478.500000     6.000000   \n",
       "75%    1095.250000    70.000000    80.000000   11601.500000     7.000000   \n",
       "max    1460.000000   190.000000   313.000000  215245.000000    10.000000   \n",
       "\n",
       "       OverallCond    YearBuilt  YearRemodAdd   MasVnrArea   BsmtFinSF1  ...  \\\n",
       "count  1460.000000  1460.000000   1460.000000  1452.000000  1460.000000  ...   \n",
       "mean      5.575342  1971.267808   1984.865753   103.685262   443.639726  ...   \n",
       "std       1.112799    30.202904     20.645407   181.066207   456.098091  ...   \n",
       "min       1.000000  1872.000000   1950.000000     0.000000     0.000000  ...   \n",
       "25%       5.000000  1954.000000   1967.000000     0.000000     0.000000  ...   \n",
       "50%       5.000000  1973.000000   1994.000000     0.000000   383.500000  ...   \n",
       "75%       6.000000  2000.000000   2004.000000   166.000000   712.250000  ...   \n",
       "max       9.000000  2010.000000   2010.000000  1600.000000  5644.000000  ...   \n",
       "\n",
       "        WoodDeckSF  OpenPorchSF  EnclosedPorch    3SsnPorch  ScreenPorch  \\\n",
       "count  1460.000000  1460.000000    1460.000000  1460.000000  1460.000000   \n",
       "mean     94.244521    46.660274      21.954110     3.409589    15.060959   \n",
       "std     125.338794    66.256028      61.119149    29.317331    55.757415   \n",
       "min       0.000000     0.000000       0.000000     0.000000     0.000000   \n",
       "25%       0.000000     0.000000       0.000000     0.000000     0.000000   \n",
       "50%       0.000000    25.000000       0.000000     0.000000     0.000000   \n",
       "75%     168.000000    68.000000       0.000000     0.000000     0.000000   \n",
       "max     857.000000   547.000000     552.000000   508.000000   480.000000   \n",
       "\n",
       "          PoolArea       MiscVal       MoSold       YrSold      SalePrice  \n",
       "count  1460.000000   1460.000000  1460.000000  1460.000000    1460.000000  \n",
       "mean      2.758904     43.489041     6.321918  2007.815753  180921.195890  \n",
       "std      40.177307    496.123024     2.703626     1.328095   79442.502883  \n",
       "min       0.000000      0.000000     1.000000  2006.000000   34900.000000  \n",
       "25%       0.000000      0.000000     5.000000  2007.000000  129975.000000  \n",
       "50%       0.000000      0.000000     6.000000  2008.000000  163000.000000  \n",
       "75%       0.000000      0.000000     8.000000  2009.000000  214000.000000  \n",
       "max     738.000000  15500.000000    12.000000  2010.000000  755000.000000  \n",
       "\n",
       "[8 rows x 38 columns]"
      ]
     },
     "execution_count": 20,
     "metadata": {},
     "output_type": "execute_result"
    }
   ],
   "source": [
    "train_dataset = pd.read_csv(\"train.csv\")\n",
    "test_dataset = pd.read_csv(\"test.csv\")\n",
    "train_dataset.describe()"
   ]
  },
  {
   "cell_type": "code",
   "execution_count": 21,
   "metadata": {},
   "outputs": [
    {
     "name": "stdout",
     "output_type": "stream",
     "text": [
      "Id                 0\n",
      "MSSubClass         0\n",
      "MSZoning           0\n",
      "LotFrontage      259\n",
      "LotArea            0\n",
      "                ... \n",
      "MoSold             0\n",
      "YrSold             0\n",
      "SaleType           0\n",
      "SaleCondition      0\n",
      "SalePrice          0\n",
      "Length: 81, dtype: int64\n"
     ]
    }
   ],
   "source": [
    "print(train_dataset.isnull().sum())"
   ]
  },
  {
   "cell_type": "code",
   "execution_count": 23,
   "metadata": {},
   "outputs": [
    {
     "data": {
      "text/html": [
       "<div>\n",
       "<style scoped>\n",
       "    .dataframe tbody tr th:only-of-type {\n",
       "        vertical-align: middle;\n",
       "    }\n",
       "\n",
       "    .dataframe tbody tr th {\n",
       "        vertical-align: top;\n",
       "    }\n",
       "\n",
       "    .dataframe thead th {\n",
       "        text-align: right;\n",
       "    }\n",
       "</style>\n",
       "<table border=\"1\" class=\"dataframe\">\n",
       "  <thead>\n",
       "    <tr style=\"text-align: right;\">\n",
       "      <th></th>\n",
       "      <th>Id</th>\n",
       "      <th>MSSubClass</th>\n",
       "      <th>LotFrontage</th>\n",
       "      <th>LotArea</th>\n",
       "      <th>OverallQual</th>\n",
       "      <th>OverallCond</th>\n",
       "      <th>YearBuilt</th>\n",
       "      <th>YearRemodAdd</th>\n",
       "      <th>MasVnrArea</th>\n",
       "      <th>BsmtFinSF1</th>\n",
       "      <th>...</th>\n",
       "      <th>GarageArea</th>\n",
       "      <th>WoodDeckSF</th>\n",
       "      <th>OpenPorchSF</th>\n",
       "      <th>EnclosedPorch</th>\n",
       "      <th>3SsnPorch</th>\n",
       "      <th>ScreenPorch</th>\n",
       "      <th>PoolArea</th>\n",
       "      <th>MiscVal</th>\n",
       "      <th>MoSold</th>\n",
       "      <th>YrSold</th>\n",
       "    </tr>\n",
       "  </thead>\n",
       "  <tbody>\n",
       "    <tr>\n",
       "      <th>count</th>\n",
       "      <td>1459.000000</td>\n",
       "      <td>1459.000000</td>\n",
       "      <td>1232.000000</td>\n",
       "      <td>1459.000000</td>\n",
       "      <td>1459.000000</td>\n",
       "      <td>1459.000000</td>\n",
       "      <td>1459.000000</td>\n",
       "      <td>1459.000000</td>\n",
       "      <td>1444.000000</td>\n",
       "      <td>1458.000000</td>\n",
       "      <td>...</td>\n",
       "      <td>1458.000000</td>\n",
       "      <td>1459.000000</td>\n",
       "      <td>1459.000000</td>\n",
       "      <td>1459.000000</td>\n",
       "      <td>1459.000000</td>\n",
       "      <td>1459.000000</td>\n",
       "      <td>1459.000000</td>\n",
       "      <td>1459.000000</td>\n",
       "      <td>1459.000000</td>\n",
       "      <td>1459.000000</td>\n",
       "    </tr>\n",
       "    <tr>\n",
       "      <th>mean</th>\n",
       "      <td>2190.000000</td>\n",
       "      <td>57.378341</td>\n",
       "      <td>68.580357</td>\n",
       "      <td>9819.161069</td>\n",
       "      <td>6.078821</td>\n",
       "      <td>5.553804</td>\n",
       "      <td>1971.357779</td>\n",
       "      <td>1983.662783</td>\n",
       "      <td>100.709141</td>\n",
       "      <td>439.203704</td>\n",
       "      <td>...</td>\n",
       "      <td>472.768861</td>\n",
       "      <td>93.174777</td>\n",
       "      <td>48.313914</td>\n",
       "      <td>24.243317</td>\n",
       "      <td>1.794380</td>\n",
       "      <td>17.064428</td>\n",
       "      <td>1.744345</td>\n",
       "      <td>58.167923</td>\n",
       "      <td>6.104181</td>\n",
       "      <td>2007.769705</td>\n",
       "    </tr>\n",
       "    <tr>\n",
       "      <th>std</th>\n",
       "      <td>421.321334</td>\n",
       "      <td>42.746880</td>\n",
       "      <td>22.376841</td>\n",
       "      <td>4955.517327</td>\n",
       "      <td>1.436812</td>\n",
       "      <td>1.113740</td>\n",
       "      <td>30.390071</td>\n",
       "      <td>21.130467</td>\n",
       "      <td>177.625900</td>\n",
       "      <td>455.268042</td>\n",
       "      <td>...</td>\n",
       "      <td>217.048611</td>\n",
       "      <td>127.744882</td>\n",
       "      <td>68.883364</td>\n",
       "      <td>67.227765</td>\n",
       "      <td>20.207842</td>\n",
       "      <td>56.609763</td>\n",
       "      <td>30.491646</td>\n",
       "      <td>630.806978</td>\n",
       "      <td>2.722432</td>\n",
       "      <td>1.301740</td>\n",
       "    </tr>\n",
       "    <tr>\n",
       "      <th>min</th>\n",
       "      <td>1461.000000</td>\n",
       "      <td>20.000000</td>\n",
       "      <td>21.000000</td>\n",
       "      <td>1470.000000</td>\n",
       "      <td>1.000000</td>\n",
       "      <td>1.000000</td>\n",
       "      <td>1879.000000</td>\n",
       "      <td>1950.000000</td>\n",
       "      <td>0.000000</td>\n",
       "      <td>0.000000</td>\n",
       "      <td>...</td>\n",
       "      <td>0.000000</td>\n",
       "      <td>0.000000</td>\n",
       "      <td>0.000000</td>\n",
       "      <td>0.000000</td>\n",
       "      <td>0.000000</td>\n",
       "      <td>0.000000</td>\n",
       "      <td>0.000000</td>\n",
       "      <td>0.000000</td>\n",
       "      <td>1.000000</td>\n",
       "      <td>2006.000000</td>\n",
       "    </tr>\n",
       "    <tr>\n",
       "      <th>25%</th>\n",
       "      <td>1825.500000</td>\n",
       "      <td>20.000000</td>\n",
       "      <td>58.000000</td>\n",
       "      <td>7391.000000</td>\n",
       "      <td>5.000000</td>\n",
       "      <td>5.000000</td>\n",
       "      <td>1953.000000</td>\n",
       "      <td>1963.000000</td>\n",
       "      <td>0.000000</td>\n",
       "      <td>0.000000</td>\n",
       "      <td>...</td>\n",
       "      <td>318.000000</td>\n",
       "      <td>0.000000</td>\n",
       "      <td>0.000000</td>\n",
       "      <td>0.000000</td>\n",
       "      <td>0.000000</td>\n",
       "      <td>0.000000</td>\n",
       "      <td>0.000000</td>\n",
       "      <td>0.000000</td>\n",
       "      <td>4.000000</td>\n",
       "      <td>2007.000000</td>\n",
       "    </tr>\n",
       "    <tr>\n",
       "      <th>50%</th>\n",
       "      <td>2190.000000</td>\n",
       "      <td>50.000000</td>\n",
       "      <td>67.000000</td>\n",
       "      <td>9399.000000</td>\n",
       "      <td>6.000000</td>\n",
       "      <td>5.000000</td>\n",
       "      <td>1973.000000</td>\n",
       "      <td>1992.000000</td>\n",
       "      <td>0.000000</td>\n",
       "      <td>350.500000</td>\n",
       "      <td>...</td>\n",
       "      <td>480.000000</td>\n",
       "      <td>0.000000</td>\n",
       "      <td>28.000000</td>\n",
       "      <td>0.000000</td>\n",
       "      <td>0.000000</td>\n",
       "      <td>0.000000</td>\n",
       "      <td>0.000000</td>\n",
       "      <td>0.000000</td>\n",
       "      <td>6.000000</td>\n",
       "      <td>2008.000000</td>\n",
       "    </tr>\n",
       "    <tr>\n",
       "      <th>75%</th>\n",
       "      <td>2554.500000</td>\n",
       "      <td>70.000000</td>\n",
       "      <td>80.000000</td>\n",
       "      <td>11517.500000</td>\n",
       "      <td>7.000000</td>\n",
       "      <td>6.000000</td>\n",
       "      <td>2001.000000</td>\n",
       "      <td>2004.000000</td>\n",
       "      <td>164.000000</td>\n",
       "      <td>753.500000</td>\n",
       "      <td>...</td>\n",
       "      <td>576.000000</td>\n",
       "      <td>168.000000</td>\n",
       "      <td>72.000000</td>\n",
       "      <td>0.000000</td>\n",
       "      <td>0.000000</td>\n",
       "      <td>0.000000</td>\n",
       "      <td>0.000000</td>\n",
       "      <td>0.000000</td>\n",
       "      <td>8.000000</td>\n",
       "      <td>2009.000000</td>\n",
       "    </tr>\n",
       "    <tr>\n",
       "      <th>max</th>\n",
       "      <td>2919.000000</td>\n",
       "      <td>190.000000</td>\n",
       "      <td>200.000000</td>\n",
       "      <td>56600.000000</td>\n",
       "      <td>10.000000</td>\n",
       "      <td>9.000000</td>\n",
       "      <td>2010.000000</td>\n",
       "      <td>2010.000000</td>\n",
       "      <td>1290.000000</td>\n",
       "      <td>4010.000000</td>\n",
       "      <td>...</td>\n",
       "      <td>1488.000000</td>\n",
       "      <td>1424.000000</td>\n",
       "      <td>742.000000</td>\n",
       "      <td>1012.000000</td>\n",
       "      <td>360.000000</td>\n",
       "      <td>576.000000</td>\n",
       "      <td>800.000000</td>\n",
       "      <td>17000.000000</td>\n",
       "      <td>12.000000</td>\n",
       "      <td>2010.000000</td>\n",
       "    </tr>\n",
       "  </tbody>\n",
       "</table>\n",
       "<p>8 rows × 37 columns</p>\n",
       "</div>"
      ],
      "text/plain": [
       "                Id   MSSubClass  LotFrontage       LotArea  OverallQual  \\\n",
       "count  1459.000000  1459.000000  1232.000000   1459.000000  1459.000000   \n",
       "mean   2190.000000    57.378341    68.580357   9819.161069     6.078821   \n",
       "std     421.321334    42.746880    22.376841   4955.517327     1.436812   \n",
       "min    1461.000000    20.000000    21.000000   1470.000000     1.000000   \n",
       "25%    1825.500000    20.000000    58.000000   7391.000000     5.000000   \n",
       "50%    2190.000000    50.000000    67.000000   9399.000000     6.000000   \n",
       "75%    2554.500000    70.000000    80.000000  11517.500000     7.000000   \n",
       "max    2919.000000   190.000000   200.000000  56600.000000    10.000000   \n",
       "\n",
       "       OverallCond    YearBuilt  YearRemodAdd   MasVnrArea   BsmtFinSF1  ...  \\\n",
       "count  1459.000000  1459.000000   1459.000000  1444.000000  1458.000000  ...   \n",
       "mean      5.553804  1971.357779   1983.662783   100.709141   439.203704  ...   \n",
       "std       1.113740    30.390071     21.130467   177.625900   455.268042  ...   \n",
       "min       1.000000  1879.000000   1950.000000     0.000000     0.000000  ...   \n",
       "25%       5.000000  1953.000000   1963.000000     0.000000     0.000000  ...   \n",
       "50%       5.000000  1973.000000   1992.000000     0.000000   350.500000  ...   \n",
       "75%       6.000000  2001.000000   2004.000000   164.000000   753.500000  ...   \n",
       "max       9.000000  2010.000000   2010.000000  1290.000000  4010.000000  ...   \n",
       "\n",
       "        GarageArea   WoodDeckSF  OpenPorchSF  EnclosedPorch    3SsnPorch  \\\n",
       "count  1458.000000  1459.000000  1459.000000    1459.000000  1459.000000   \n",
       "mean    472.768861    93.174777    48.313914      24.243317     1.794380   \n",
       "std     217.048611   127.744882    68.883364      67.227765    20.207842   \n",
       "min       0.000000     0.000000     0.000000       0.000000     0.000000   \n",
       "25%     318.000000     0.000000     0.000000       0.000000     0.000000   \n",
       "50%     480.000000     0.000000    28.000000       0.000000     0.000000   \n",
       "75%     576.000000   168.000000    72.000000       0.000000     0.000000   \n",
       "max    1488.000000  1424.000000   742.000000    1012.000000   360.000000   \n",
       "\n",
       "       ScreenPorch     PoolArea       MiscVal       MoSold       YrSold  \n",
       "count  1459.000000  1459.000000   1459.000000  1459.000000  1459.000000  \n",
       "mean     17.064428     1.744345     58.167923     6.104181  2007.769705  \n",
       "std      56.609763    30.491646    630.806978     2.722432     1.301740  \n",
       "min       0.000000     0.000000      0.000000     1.000000  2006.000000  \n",
       "25%       0.000000     0.000000      0.000000     4.000000  2007.000000  \n",
       "50%       0.000000     0.000000      0.000000     6.000000  2008.000000  \n",
       "75%       0.000000     0.000000      0.000000     8.000000  2009.000000  \n",
       "max     576.000000   800.000000  17000.000000    12.000000  2010.000000  \n",
       "\n",
       "[8 rows x 37 columns]"
      ]
     },
     "execution_count": 23,
     "metadata": {},
     "output_type": "execute_result"
    }
   ],
   "source": [
    "test_dataset.describe()"
   ]
  },
  {
   "cell_type": "code",
   "execution_count": 24,
   "metadata": {},
   "outputs": [
    {
     "name": "stdout",
     "output_type": "stream",
     "text": [
      "Id                 0\n",
      "MSSubClass         0\n",
      "MSZoning           4\n",
      "LotFrontage      227\n",
      "LotArea            0\n",
      "                ... \n",
      "MiscVal            0\n",
      "MoSold             0\n",
      "YrSold             0\n",
      "SaleType           1\n",
      "SaleCondition      0\n",
      "Length: 80, dtype: int64\n"
     ]
    }
   ],
   "source": [
    "print(test_dataset.isnull().sum())"
   ]
  },
  {
   "cell_type": "code",
   "execution_count": 25,
   "metadata": {},
   "outputs": [
    {
     "data": {
      "image/png": "[encoded data removed]",
      "text/plain": [
       "<Figure size 1440x1080 with 42 Axes>"
      ]
     },
     "metadata": {
      "needs_background": "light"
     },
     "output_type": "display_data"
    }
   ],
   "source": [
    "%matplotlib inline\n",
    "import matplotlib.pyplot as plt\n",
    "train_dataset.hist(bins=50, figsize=(20,15))\n",
    "plt.savefig(\"attribute_histogram_plots\")\n",
    "plt.show()"
   ]
  },
  {
   "cell_type": "code",
   "execution_count": 26,
   "metadata": {},
   "outputs": [
    {
     "data": {
      "text/plain": [
       "SalePrice        1.000000\n",
       "OverallQual      0.790982\n",
       "GrLivArea        0.708624\n",
       "GarageCars       0.640409\n",
       "GarageArea       0.623431\n",
       "TotalBsmtSF      0.613581\n",
       "1stFlrSF         0.605852\n",
       "FullBath         0.560664\n",
       "TotRmsAbvGrd     0.533723\n",
       "YearBuilt        0.522897\n",
       "YearRemodAdd     0.507101\n",
       "GarageYrBlt      0.486362\n",
       "MasVnrArea       0.477493\n",
       "Fireplaces       0.466929\n",
       "BsmtFinSF1       0.386420\n",
       "LotFrontage      0.351799\n",
       "WoodDeckSF       0.324413\n",
       "2ndFlrSF         0.319334\n",
       "OpenPorchSF      0.315856\n",
       "HalfBath         0.284108\n",
       "LotArea          0.263843\n",
       "BsmtFullBath     0.227122\n",
       "BsmtUnfSF        0.214479\n",
       "BedroomAbvGr     0.168213\n",
       "ScreenPorch      0.111447\n",
       "PoolArea         0.092404\n",
       "MoSold           0.046432\n",
       "3SsnPorch        0.044584\n",
       "BsmtFinSF2      -0.011378\n",
       "BsmtHalfBath    -0.016844\n",
       "MiscVal         -0.021190\n",
       "Id              -0.021917\n",
       "LowQualFinSF    -0.025606\n",
       "YrSold          -0.028923\n",
       "OverallCond     -0.077856\n",
       "MSSubClass      -0.084284\n",
       "EnclosedPorch   -0.128578\n",
       "KitchenAbvGr    -0.135907\n",
       "Name: SalePrice, dtype: float64"
      ]
     },
     "execution_count": 26,
     "metadata": {},
     "output_type": "execute_result"
    }
   ],
   "source": [
    "corr_matrix = train_dataset.corr()\n",
    "corr_matrix[\"SalePrice\"].sort_values(ascending=False)"
   ]
  },
  {
   "cell_type": "code",
   "execution_count": 27,
   "metadata": {},
   "outputs": [
    {
     "data": {
      "text/plain": [
       "<AxesSubplot:xlabel='OverallQual', ylabel='SalePrice'>"
      ]
     },
     "execution_count": 27,
     "metadata": {},
     "output_type": "execute_result"
    },
    {
     "data": {
      "image/png": "[encoded data removed]",
      "text/plain": [
       "<Figure size 432x288 with 1 Axes>"
      ]
     },
     "metadata": {
      "needs_background": "light"
     },
     "output_type": "display_data"
    }
   ],
   "source": [
    "train_dataset.plot(kind=\"scatter\", x=\"OverallQual\", y=\"SalePrice\", alpha=0.5)"
   ]
  },
  {
   "cell_type": "code",
   "execution_count": 28,
   "metadata": {},
   "outputs": [
    {
     "data": {
      "text/plain": [
       "<AxesSubplot:xlabel='GrLivArea', ylabel='SalePrice'>"
      ]
     },
     "execution_count": 28,
     "metadata": {},
     "output_type": "execute_result"
    },
    {
     "data": {
      "image/png": "[encoded data removed]",
      "text/plain": [
       "<Figure size 432x288 with 1 Axes>"
      ]
     },
     "metadata": {
      "needs_background": "light"
     },
     "output_type": "display_data"
    }
   ],
   "source": [
    "train_dataset.plot(kind=\"scatter\", x=\"GrLivArea\", y=\"SalePrice\", alpha=0.5)"
   ]
  },
  {
   "cell_type": "code",
   "execution_count": 29,
   "metadata": {},
   "outputs": [
    {
     "data": {
      "text/plain": [
       "<AxesSubplot:xlabel='GarageCars', ylabel='SalePrice'>"
      ]
     },
     "execution_count": 29,
     "metadata": {},
     "output_type": "execute_result"
    },
    {
     "data": {
      "image/png": "[encoded data removed]",
      "text/plain": [
       "<Figure size 432x288 with 1 Axes>"
      ]
     },
     "metadata": {
      "needs_background": "light"
     },
     "output_type": "display_data"
    }
   ],
   "source": [
    "train_dataset.plot(kind=\"scatter\", x=\"GarageCars\", y=\"SalePrice\", alpha=0.5)"
   ]
  },
  {
   "cell_type": "code",
   "execution_count": 30,
   "metadata": {},
   "outputs": [
    {
     "data": {
      "text/plain": [
       "<AxesSubplot:>"
      ]
     },
     "execution_count": 30,
     "metadata": {},
     "output_type": "execute_result"
    },
    {
     "data": {
      "image/png": "[encoded data removed]",
      "text/plain": [
       "<Figure size 432x288 with 1 Axes>"
      ]
     },
     "metadata": {
      "needs_background": "light"
     },
     "output_type": "display_data"
    }
   ],
   "source": [
    "train_dataset.boxplot(column=['OverallQual', 'GrLivArea', 'GarageCars', 'GarageArea'])"
   ]
  },
  {
   "cell_type": "code",
   "execution_count": 31,
   "metadata": {},
   "outputs": [
    {
     "data": {
      "text/plain": [
       "<AxesSubplot:>"
      ]
     },
     "execution_count": 31,
     "metadata": {},
     "output_type": "execute_result"
    },
    {
     "data": {
      "image/png": "[encoded data removed]",
      "text/plain": [
       "<Figure size 432x288 with 1 Axes>"
      ]
     },
     "metadata": {
      "needs_background": "light"
     },
     "output_type": "display_data"
    }
   ],
   "source": [
    "train_dataset.boxplot(column=['TotalBsmtSF', '1stFlrSF', 'FullBath', 'SalePrice'])"
   ]
  },
  {
   "cell_type": "code",
   "execution_count": 32,
   "metadata": {},
   "outputs": [
    {
     "name": "stdout",
     "output_type": "stream",
     "text": [
      "Id               0\n",
      "MSSubClass       0\n",
      "MSZoning         0\n",
      "LotFrontage      0\n",
      "LotArea          0\n",
      "                ..\n",
      "MoSold           0\n",
      "YrSold           0\n",
      "SaleType         0\n",
      "SaleCondition    0\n",
      "SalePrice        0\n",
      "Length: 81, dtype: int64\n"
     ]
    }
   ],
   "source": [
    "train_dataset.fillna(train_dataset.mean(), inplace = True)\n",
    "test_dataset.fillna(test_dataset.mean(), inplace = True)\n",
    "print(train_dataset.isnull().sum())"
   ]
  },
  {
   "cell_type": "code",
   "execution_count": 33,
   "metadata": {},
   "outputs": [
    {
     "name": "stdout",
     "output_type": "stream",
     "text": [
      "Id               0\n",
      "MSSubClass       0\n",
      "MSZoning         4\n",
      "LotFrontage      0\n",
      "LotArea          0\n",
      "                ..\n",
      "MiscVal          0\n",
      "MoSold           0\n",
      "YrSold           0\n",
      "SaleType         1\n",
      "SaleCondition    0\n",
      "Length: 80, dtype: int64\n"
     ]
    }
   ],
   "source": [
    "print(test_dataset.isnull().sum())"
   ]
  },
  {
   "cell_type": "code",
   "execution_count": 34,
   "metadata": {},
   "outputs": [
    {
     "name": "stdout",
     "output_type": "stream",
     "text": [
      "R-Square value of above linear Regression model :  0.845579033135055\n"
     ]
    }
   ],
   "source": [
    "from sklearn.preprocessing import LabelEncoder\n",
    "cols = ('GarageCond', 'RoofStyle', 'LandContour',  'Electrical', 'RoofMatl', 'Heating', 'Foundation', 'MiscFeature', 'SaleType', 'GarageType', 'SaleCondition', 'Exterior1st', 'Exterior2nd', 'MasVnrType', 'FireplaceQu', 'LotConfig', 'Neighborhood', 'Condition1', 'Condition2', 'Utilities', 'BldgType', 'HouseStyle','PoolQC', 'BsmtQual', 'BsmtCond', 'GarageQual','BsmtExposure', 'ExterQual', 'ExterCond','HeatingQC', 'KitchenQual', 'BsmtFinType1','BsmtFinType2', 'Functional', 'Fence', 'GarageFinish', 'LandSlope','LotShape', 'PavedDrive', 'Street', 'Alley', 'CentralAir', 'MSSubClass', 'OverallCond', 'YrSold', 'MoSold', 'MSZoning')\n",
    "for i in cols:\n",
    "    end = LabelEncoder()\n",
    "    end.fit(list(train_dataset[i].values))\n",
    "    train_dataset[i] = end.transform(list(train_dataset[i].values))\n",
    "x = train_dataset[train_dataset.columns[:80]]\n",
    "y = train_dataset['SalePrice']    \n",
    "from sklearn import model_selection\n",
    "xtrain, xtest, ytrain, ytest = model_selection.train_test_split(x, y, test_size=0.2)\n",
    "from sklearn.linear_model import LinearRegression\n",
    "from sklearn import metrics\n",
    "\n",
    "reg = LinearRegression()  \n",
    "reg.fit(xtrain, ytrain)\n",
    "values_predcited = reg.predict(xtest)\n",
    "print(\"R-Square value of above linear Regression model : \", reg.score(xtrain,ytrain))"
   ]
  },
  {
   "cell_type": "code",
   "execution_count": 35,
   "metadata": {},
   "outputs": [
    {
     "data": {
      "text/html": [
       "<div>\n",
       "<style scoped>\n",
       "    .dataframe tbody tr th:only-of-type {\n",
       "        vertical-align: middle;\n",
       "    }\n",
       "\n",
       "    .dataframe tbody tr th {\n",
       "        vertical-align: top;\n",
       "    }\n",
       "\n",
       "    .dataframe thead th {\n",
       "        text-align: right;\n",
       "    }\n",
       "</style>\n",
       "<table border=\"1\" class=\"dataframe\">\n",
       "  <thead>\n",
       "    <tr style=\"text-align: right;\">\n",
       "      <th></th>\n",
       "      <th>Predicted Sales</th>\n",
       "    </tr>\n",
       "  </thead>\n",
       "  <tbody>\n",
       "    <tr>\n",
       "      <th>0</th>\n",
       "      <td>90465.629425</td>\n",
       "    </tr>\n",
       "    <tr>\n",
       "      <th>1</th>\n",
       "      <td>185538.908360</td>\n",
       "    </tr>\n",
       "    <tr>\n",
       "      <th>2</th>\n",
       "      <td>178931.292919</td>\n",
       "    </tr>\n",
       "    <tr>\n",
       "      <th>3</th>\n",
       "      <td>324907.345591</td>\n",
       "    </tr>\n",
       "    <tr>\n",
       "      <th>4</th>\n",
       "      <td>146262.779169</td>\n",
       "    </tr>\n",
       "    <tr>\n",
       "      <th>...</th>\n",
       "      <td>...</td>\n",
       "    </tr>\n",
       "    <tr>\n",
       "      <th>287</th>\n",
       "      <td>239733.344117</td>\n",
       "    </tr>\n",
       "    <tr>\n",
       "      <th>288</th>\n",
       "      <td>119357.079019</td>\n",
       "    </tr>\n",
       "    <tr>\n",
       "      <th>289</th>\n",
       "      <td>372022.162504</td>\n",
       "    </tr>\n",
       "    <tr>\n",
       "      <th>290</th>\n",
       "      <td>131729.256076</td>\n",
       "    </tr>\n",
       "    <tr>\n",
       "      <th>291</th>\n",
       "      <td>142788.381999</td>\n",
       "    </tr>\n",
       "  </tbody>\n",
       "</table>\n",
       "<p>292 rows × 1 columns</p>\n",
       "</div>"
      ],
      "text/plain": [
       "     Predicted Sales\n",
       "0       90465.629425\n",
       "1      185538.908360\n",
       "2      178931.292919\n",
       "3      324907.345591\n",
       "4      146262.779169\n",
       "..               ...\n",
       "287    239733.344117\n",
       "288    119357.079019\n",
       "289    372022.162504\n",
       "290    131729.256076\n",
       "291    142788.381999\n",
       "\n",
       "[292 rows x 1 columns]"
      ]
     },
     "execution_count": 35,
     "metadata": {},
     "output_type": "execute_result"
    }
   ],
   "source": [
    "sales_predict = pd.DataFrame(values_predcited, columns =['Predicted Sales'])\n",
    "sales_predict"
   ]
  }
 ],
 "metadata": {
  "colab": {
   "collapsed_sections": [],
   "include_colab_link": true,
   "name": "INFO5731_Assignment_Three.ipynb",
   "provenance": []
  },
  "kernelspec": {
   "display_name": "Python 3",
   "language": "python",
   "name": "python3"
  },
  "language_info": {
   "codemirror_mode": {
    "name": "ipython",
    "version": 3
   },
   "file_extension": ".py",
   "mimetype": "text/x-python",
   "name": "python",
   "nbconvert_exporter": "python",
   "pygments_lexer": "ipython3",
   "version": "3.8.8"
  }
 },
 "nbformat": 4,
 "nbformat_minor": 1
}
