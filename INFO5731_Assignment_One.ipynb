{
  "nbformat": 4,
  "nbformat_minor": 0,
  "metadata": {
    "colab": {
      "name": "INFO5731_Assignment_One.ipynb",
      "provenance": [],
      "collapsed_sections": [],
      "include_colab_link": true
    },
    "kernelspec": {
      "display_name": "Python 3",
      "language": "python",
      "name": "python3"
    },
    "language_info": {
      "codemirror_mode": {
        "name": "ipython",
        "version": 3
      },
      "file_extension": ".py",
      "mimetype": "text/x-python",
      "name": "python",
      "nbconvert_exporter": "python",
      "pygments_lexer": "ipython3",
      "version": "3.7.8"
    }
  },
  "cells": [
    {
      "cell_type": "markdown",
      "metadata": {
        "id": "view-in-github",
        "colab_type": "text"
      },
      "source": [
        "<a href=\"https://colab.research.google.com/github/Hsin-HsuanChung/hsin-hsuan_INFO5731_Fall2021/blob/main/INFO5731_Assignment_One.ipynb\" target=\"_parent\"><img src=\"https://colab.research.google.com/assets/colab-badge.svg\" alt=\"Open In Colab\"/></a>"
      ]
    },
    {
      "cell_type": "markdown",
      "metadata": {
        "id": "Ryk8D1Q4Wsrp"
      },
      "source": [
        "# **INFO5731 Assignment One**"
      ]
    },
    {
      "cell_type": "markdown",
      "metadata": {
        "id": "90_NR8c5XGWc"
      },
      "source": [
        "# Question 1\n",
        "\n",
        "(20 points). Write a Python program to generate 12 random numbers between 1 and 100. Sort the list of numbers in ascending order and print it out. Sort the list of numbers in descending order and print it out. Calculate the average for the group and print it out."
      ]
    },
    {
      "cell_type": "code",
      "metadata": {
        "id": "5QX6bJjGWXY9",
        "outputId": "198fa397-4f07-4874-c9ae-bbe87ea539e9"
      },
      "source": [
        "# Your code here\n",
        "import random\n",
        "value = list(range(1,100))\n",
        "results = random.sample(value, k=12)\n",
        "results.sort()\n",
        "print(results)\n",
        "\n",
        "results.sort(reverse=True)\n",
        "print(results)\n",
        "\n",
        "avg = sum(results)/12\n",
        "print(avg)"
      ],
      "execution_count": null,
      "outputs": [
        {
          "name": "stdout",
          "output_type": "stream",
          "text": "[1, 8, 12, 24, 26, 39, 44, 72, 75, 77, 93, 94]\n[94, 93, 77, 75, 72, 44, 39, 26, 24, 12, 8, 1]\n47.083333333333336\n"
        }
      ]
    },
    {
      "cell_type": "markdown",
      "metadata": {
        "id": "1F_PZdH9Sh49"
      },
      "source": [
        "# Question 2\n",
        "(25 points). Write a program that will do the following string formatting tasks:\n",
        "\n",
        "(1) Ask the user to enter two sentences.\n",
        "\n",
        "(2) Make each sentence into a list. Each element in the list should correspond to a word in the sentence. For example, if the sentence is \"Alas! Am I alive? This is my first python program\", the program should print out ['Alas, '!', 'Am', 'I', 'alive, '?', 'This', 'is', 'my', 'first', 'python', 'program'].\n",
        "\n",
        "(3) Compare the two sentences. Print out a list of words that occur in both sentences.\n",
        "\n",
        "(4) Remove any punctuation from the sentence and print it back out. It should remove at least the following characters, but it can remove more: period(“.”), comma (“,”), semicolon (“;”), and colon (“:”)\n",
        "\n",
        "(5) Count the number of vowels in the sentences. Print out each vowel and the number of times it appears in the sentences, such as: a:2, e:1, i:0, etc"
      ]
    },
    {
      "cell_type": "code",
      "metadata": {
        "id": "Y0oOSlsOS0cq",
        "outputId": "1ae584eb-6510-476d-a483-d2e6c0ada081"
      },
      "source": [
        "import nltk\n",
        "nltk.download('punkt')\n",
        "print(\"(1)\")\n",
        "sentence1 = input(\"Please enter sentences1: \")\n",
        "sentence2 = input(\"Please enter sentences2: \")\n",
        "\n",
        "from nltk.tokenize import word_tokenize\n",
        "print(word_tokenize(sentence1))\n",
        "print(word_tokenize(sentence2))\n",
        "\n",
        "s1 = word_tokenize(sentence1)\n",
        "s2 = word_tokenize(sentence2)\n",
        "words_list=[]\n",
        "for words in s1:\n",
        "  if words in s2:\n",
        "    words_list.append(words)\n",
        "print(\"(2)\")\n",
        "print(words_list)\n",
        "\n",
        "print(\"(3)\")\n",
        "sentence1_no_punct = str.maketrans(\",.!?:;\",6*\" \")\n",
        "print(sentence1.translate(sentence1_no_punct))\n",
        "sentence2_no_punct = str.maketrans(\",.!?:;\",6*\" \")\n",
        "print(sentence2.translate(sentence2_no_punct))\n",
        "\n",
        "print(\"(4)\")\n",
        "s1_lower = sentence1.lower()\n",
        "s2_lower = sentence2.lower()\n",
        "\n",
        "s_a_lower = s1_lower.count(\"a\")+s2_lower.count(\"a\")\n",
        "print(\"a: \" + str(s_a_lower))\n",
        "s_e_lower = s1_lower.count(\"e\")+s2_lower.count(\"e\")\n",
        "print(\"e: \" + str(s_e_lower))\n",
        "s_i_lower = s1_lower.count(\"i\")+s2_lower.count(\"i\")\n",
        "print(\"i: \" + str(s_i_lower))\n",
        "s_o_lower = s1_lower.count(\"o\")+s2_lower.count(\"o\")\n",
        "print(\"o: \" + str(s_o_lower))\n",
        "s_u_lower = s1_lower.count(\"u\")+s2_lower.count(\"u\")\n",
        "print(\"u: \" + str(s_u_lower))"
      ],
      "execution_count": null,
      "outputs": [
        {
          "name": "stderr",
          "text": "[nltk_data] Downloading package punkt to /home/jovyan/nltk_data...\n[nltk_data]   Package punkt is already up-to-date!\n",
          "output_type": "stream"
        },
        {
          "name": "stdout",
          "text": "(1)\n",
          "output_type": "stream"
        },
        {
          "output_type": "stream",
          "name": "stdin",
          "text": "Please enter sentences1:  I am a girl.\nPlease enter sentences2:  I am a student.\n"
        },
        {
          "name": "stdout",
          "text": "['I', 'am', 'a', 'girl', '.']\n['I', 'am', 'a', 'student', '.']\n(2)\n['I', 'am', 'a', '.']\n(3)\nI am a girl \nI am a student \n(4)\na: 4\ne: 1\ni: 3\no: 0\nu: 1\n",
          "output_type": "stream"
        }
      ]
    },
    {
      "cell_type": "markdown",
      "metadata": {
        "id": "CmFoI4jDS9nx",
        "tags": []
      },
      "source": [
        "# Question 3 \n",
        "\n",
        "(15 points). The formula that describes the volume V of a sphere with radius r is the following:\n",
        "\n",
        "$ V=\\frac{4}{3}\\ast\\ \\pi\\ast\\ r^3 $\n",
        "\n",
        "Write a program to calculate the value of V when r is in the range of 1–10. Output the result in the following format:\n",
        "\n",
        "\tr\tV\n",
        "\t1\t…\n",
        "\t2\t…\n",
        "\t3\t…\n"
      ]
    },
    {
      "cell_type": "code",
      "metadata": {
        "id": "pEyqeioAT95b",
        "trusted": true,
        "outputId": "0cfc93cb-754a-439e-b79b-43430d44c9e0"
      },
      "source": [
        "# Your code here\n",
        "print(\"r        V\")\n",
        "pi = 3.1415926535897931\n",
        "for r in range(1,11):\n",
        "    V = 4/3*pi* r**3\n",
        "    print(r,\"\\t\",V)"
      ],
      "execution_count": null,
      "outputs": [
        {
          "name": "stdout",
          "text": "r        V\n1 \t 4.1887902047863905\n2 \t 33.510321638291124\n3 \t 113.09733552923254\n4 \t 268.082573106329\n5 \t 523.5987755982989\n6 \t 904.7786842338603\n7 \t 1436.7550402417319\n8 \t 2144.660584850632\n9 \t 3053.6280592892786\n10 \t 4188.790204786391\n",
          "output_type": "stream"
        }
      ]
    },
    {
      "cell_type": "markdown",
      "metadata": {
        "id": "z3tBE7E-Xn5X"
      },
      "source": [
        "# Question 4\n",
        "\n",
        "(40 points). In the field of Data Science, data is often formatted as a comma-delimited (CSV) file, where each line in a file corresponds to a field's value. Refer to Chapter 9 (p. 106) for more information on comma-delimited files. To answer this question, you will need to download the file [Assignment1_denton_housing.csv](https://github.com/unt-iialab/info5731-fall2021/blob/main/assignments/Assignment1_denton_housing.csv) included with this assignment. The file [Assignment1_denton_housing.csv](https://github.com/unt-iialab/info5731-fall2021/blob/main/assignments/Assignment1_denton_housing.csv) contains statistics about housing in the city of Denton from 2008 to 2014. Write a program to implement the following questions.\n",
        "\n",
        "(1) (10 pts) Calculate the difference in the number of Occupied Housing Units from year to year and print it. The difference must be calculated for the consecutive years such as 2008-2009, 2009-2010 etc. Finally, print the values in the ascending order.\n",
        "\n",
        "(2) (10 pts) For all the years, calculate the percentage of housing units which are vacant an occupied. Print the results in the following format:\n",
        "\n",
        "Year Vacant Housing Units Occupied Housing Units\n",
        "\n",
        "    2008  30%   70%                          \n",
        "\t2009 ----- -----\n",
        "\t2010 ----- -----\n",
        "    2011 ----- -----\n",
        "\t2012 ----- -----\n",
        "    2013 ----- -----\n",
        "\t2014 ----- -----\n",
        "  \n",
        "  \n",
        "\n",
        "(3) (10 pts) Calculate and print the valued and years in which the highest number of housing units were vacant and occupied. Print the results in the following format:  \n",
        "\n",
        "                              Year\tValue\n",
        "\tVacant Housing Units\t  -----   -----\n",
        "\tOccupied Housing Units\t-----   -----\n",
        "\n",
        "(4) (10 pts) Calculate the harmonic mean of the total housing units and print it out. You can find the information about harmonic mean here: https://ncalculators.com/statistics/harmonic-mean-calculator.htm"
      ]
    },
    {
      "cell_type": "code",
      "metadata": {
        "id": "lqGYuHBhcsRH",
        "trusted": true,
        "outputId": "e2eccfca-1a3d-4fbf-f8e9-c6e312488469"
      },
      "source": [
        "# Your code here\n",
        "masterDict = {}\n",
        "n = 0\n",
        "with open('Assignment1_denton_housing.csv', 'r') as f:\n",
        "    for line in f:\n",
        "        if n == 0:\n",
        "            n = n+1\n",
        "            continue\n",
        "        else:\n",
        "            year, field, value = line.split(',')\n",
        "            if year not in masterDict.keys():\n",
        "                masterDict[year] = [(field, value)]\n",
        "            else:\n",
        "                masterDict[year].append((field, value))\n",
        "years = [int(x) for x in masterDict.keys()]\n",
        "years.sort()\n",
        "\n",
        "values = []\n",
        "for i in range(len(years)):\n",
        "    if i+1 == len(years):\n",
        "        break\n",
        "    for item in masterDict[str(years[i])]:\n",
        "        if item[0] == 'Occupied Housing Units':\n",
        "            val_1 = item[1]\n",
        "    for item in masterDict[str(years[i+1])]:\n",
        "        if item[0] == 'Occupied Housing Units':\n",
        "            val_2 = item[1]\n",
        "    string = '{0} - {1} : {2}'.format(years[i], years[i+1], int(val_2)-int(val_1))\n",
        "    print(string)\n",
        "    values.append(int(val_2)-int(val_1))\n",
        "values.sort()\n",
        "print(\"Values in ascending order:\",values)"
      ],
      "execution_count": null,
      "outputs": [
        {
          "name": "stdout",
          "text": "2008 - 2009 : -795\n2009 - 2010 : 5091\n2010 - 2011 : -303\n2011 - 2012 : 1404\n2012 - 2013 : 1565\n2013 - 2014 : 2622\nValues in ascending order: [-795, -303, 1404, 1565, 2622, 5091]\n",
          "output_type": "stream"
        }
      ]
    },
    {
      "cell_type": "code",
      "metadata": {
        "trusted": true,
        "id": "vEpVi5VchMeb",
        "outputId": "0dbb37b0-052f-4847-9b56-29285477edc0"
      },
      "source": [
        "print('year : vacant%  occupied%')\n",
        "for i in years:\n",
        "    for item in masterDict[str(i)]:\n",
        "        if item[0] == 'Total Housing Units':\n",
        "            val_1 = item[1]\n",
        "        if item[0] == 'Occupied Housing Units':\n",
        "            val_2 = item[1]\n",
        "        if item[0] == 'Vacant Housing Units':\n",
        "            val_3 = item[1]\n",
        "    string = '{0} :   {1}% \\t{2}%'.format(i, round(int(val_3)/int(val_1)* 100), round(int(val_2)/int(val_1)*100))\n",
        "    print(string)"
      ],
      "execution_count": null,
      "outputs": [
        {
          "name": "stdout",
          "text": "year : vacant%  occupied%\n2008 :   11% \t89%\n2009 :   9% \t91%\n2010 :   8% \t92%\n2011 :   9% \t91%\n2012 :   7% \t93%\n2013 :   9% \t91%\n2014 :   6% \t94%\n",
          "output_type": "stream"
        }
      ]
    },
    {
      "cell_type": "code",
      "metadata": {
        "trusted": true,
        "id": "HXd6wYsVhMec",
        "outputId": "a84966b7-8dc4-4a69-8fe7-fa6720850a8a"
      },
      "source": [
        "maxVacant = 0\n",
        "maxOccupied = 0\n",
        "maxVacantYear = 0\n",
        "maxOccupiedYear = 0\n",
        "for i in years:\n",
        "    for item in masterDict[str(i)]:\n",
        "        if item[0] == 'Occupied Housing Units':\n",
        "            if int(item[1]) > maxOccupied:\n",
        "                maxOccupied = int(item[1])\n",
        "                maxOccupiedYear = i\n",
        "        if item[0] == 'Vacant Housing Units':\n",
        "            if int(item[1]) > maxVacant:\n",
        "                maxVacant = int(item[1])\n",
        "                maxVacantYear = i\n",
        "print(\"                          Year     Value\")\n",
        "print('Vacant Housing Units:     {}     {}'.format(maxOccupiedYear, maxOccupied))\n",
        "    \n",
        "print('Occupied Housing Units:   {}     {}'.format(maxVacantYear, maxVacant))"
      ],
      "execution_count": null,
      "outputs": [
        {
          "name": "stdout",
          "text": "                          Year     Value\nVacant Housing Units:     2014     46295\nOccupied Housing Units:   2008     4483\n",
          "output_type": "stream"
        }
      ]
    },
    {
      "cell_type": "code",
      "metadata": {
        "trusted": true,
        "id": "SUxLYwTfhMec",
        "outputId": "9d980eb3-b4c0-48ab-c8a3-102fa74f4214"
      },
      "source": [
        "s=0\n",
        "for i in years:\n",
        "  for item in masterDict[str(i)]:\n",
        "    if item[0] == 'Total Housing Units':\n",
        "      s = s+(1/int(item[1]))\n",
        "print('The harmonic mean is {}'.format(len(years)/s))"
      ],
      "execution_count": null,
      "outputs": [
        {
          "name": "stdout",
          "text": "The harmonic mean is 44398.28543969185\n",
          "output_type": "stream"
        }
      ]
    },
    {
      "cell_type": "code",
      "metadata": {
        "id": "m0KIMWdmhMed"
      },
      "source": [
        ""
      ],
      "execution_count": null,
      "outputs": []
    }
  ]
}